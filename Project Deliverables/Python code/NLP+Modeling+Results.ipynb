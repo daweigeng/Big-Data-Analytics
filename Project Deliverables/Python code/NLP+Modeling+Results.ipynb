{
 "cells": [
  {
   "cell_type": "markdown",
   "metadata": {},
   "source": [
    "# Improved Mortality of Patients Prediction using Clinical Notes"
   ]
  },
  {
   "cell_type": "code",
   "execution_count": 3,
   "metadata": {
    "collapsed": true
   },
   "outputs": [],
   "source": [
    "import csv\n",
    "import string\n",
    "import re\n",
    "import sys\n",
    "from nltk.corpus import stopwords\n",
    "from sklearn.feature_extraction.text import TfidfVectorizer\n",
    "from sklearn.feature_extraction.text import CountVectorizer\n",
    "from sklearn.feature_extraction.text import TfidfTransformer\n",
    "from sklearn.decomposition import NMF\n",
    "import lda\n",
    "from sklearn.naive_bayes import MultinomialNB\n",
    "from sklearn import metrics\n",
    "import numpy as np\n",
    "import pandas as pd\n",
    "from sklearn import svm\n",
    "import matplotlib.pyplot as plt"
   ]
  },
  {
   "cell_type": "code",
   "execution_count": 4,
   "metadata": {
    "collapsed": true
   },
   "outputs": [],
   "source": [
    "csv.field_size_limit(2147483647)\n",
    "stop=stopwords.words('english')\n",
    "punc=string.punctuation+string.digits\n",
    "regex = re.compile('[%s]' % re.escape(punc))"
   ]
  },
  {
   "cell_type": "markdown",
   "metadata": {},
   "source": [
    "## Utility Function"
   ]
  },
  {
   "cell_type": "code",
   "execution_count": 139,
   "metadata": {
    "collapsed": true
   },
   "outputs": [],
   "source": [
    "def getKey(item):\n",
    "    return item[1]\n",
    "\n",
    "def print_top_words(model, feature_names, n_top_words):\n",
    "    for topic_idx, topic in enumerate(model.components_):\n",
    "        print(\"Topic #%d:\" % topic_idx)\n",
    "        print(\" \".join([feature_names[i]\n",
    "                        for i in topic.argsort()[:-n_top_words - 1:-1]]))\n",
    "    print()\n",
    "\n",
    "def plot_roc(test_y,predict):\n",
    "    fpr, tpr, _ = metrics.roc_curve(test_y, predict)\n",
    "    roc_auc = metrics.auc(fpr, tpr)\n",
    "\n",
    "    # Plot of a ROC curve for a specific class\n",
    "    plt.figure()\n",
    "    plt.plot(fpr, tpr, label='ROC curve (area = %0.2f)' % roc_auc)\n",
    "    plt.plot([0, 1], [0, 1], 'k--')\n",
    "    plt.xlim([0.0, 1.0])\n",
    "    plt.ylim([0.0, 1.05])\n",
    "    plt.xlabel('False Positive Rate')\n",
    "    plt.ylabel('True Positive Rate')\n",
    "    plt.title('Receiver operating characteristic')\n",
    "    plt.legend(loc=\"lower right\")\n",
    "    plt.show()"
   ]
  },
  {
   "cell_type": "markdown",
   "metadata": {},
   "source": [
    "## Parse Clinical Notes and Shuffle to selected words"
   ]
  },
  {
   "cell_type": "code",
   "execution_count": 6,
   "metadata": {
    "collapsed": false
   },
   "outputs": [],
   "source": [
    "with open('E:/A+GTCLASS/CSE8803/paper/code/data/note_final.csv', 'rb') as csvfile:\n",
    "    spamreader = csv.reader(csvfile, delimiter=',')\n",
    "    i=0\n",
    "    doc_all=[]\n",
    "    row_num=[]\n",
    "    for row in spamreader:\n",
    "        document=[]\n",
    "        doc=row[1].lower().replace('\\n','').split('&&&&&&&&&&')\n",
    "        if i!=0:\n",
    "            str1=''\n",
    "            for j in doc:\n",
    "                j=regex.sub('',j).replace('  ','')                \n",
    "                j=' '.join(h for h in j.split(' ') if h not in stop)\n",
    "                document.append(j)\n",
    "                if str1!='':\n",
    "                    str1=str1+' '+j\n",
    "                else:\n",
    "                    str1=j\n",
    "            if len(str1.split(' '))>100:\n",
    "                vectorizer = CountVectorizer()\n",
    "                x=vectorizer.fit_transform(document).toarray()\n",
    "                word=np.sum(x,axis=0)\n",
    "                feature=vectorizer.get_feature_names()\n",
    "                rank=sorted(zip(feature,word),key=getKey,reverse=True)\n",
    "                if len(rank)>=100:\n",
    "                    selected=[j[0] for j in rank[:100]]\n",
    "                else:\n",
    "                    selected=[j[0] for j in rank]\n",
    "                s=' '.join(h for h in str1.split(' ') if h in selected)\n",
    "                doc_all.append(s)\n",
    "                row_num.append(int(row[0]))\n",
    "        i=i+1"
   ]
  },
  {
   "cell_type": "markdown",
   "metadata": {},
   "source": [
    "## TF-IDF"
   ]
  },
  {
   "cell_type": "code",
   "execution_count": 7,
   "metadata": {
    "collapsed": false
   },
   "outputs": [],
   "source": [
    "count_vect = TfidfVectorizer(min_df=1)\n",
    "X_train_counts = count_vect.fit_transform(doc_all)\n",
    "feature_all=count_vect.get_feature_names()"
   ]
  },
  {
   "cell_type": "code",
   "execution_count": 97,
   "metadata": {
    "collapsed": false
   },
   "outputs": [],
   "source": [
    "from scipy.io import mmwrite\n",
    "mmwrite('E:/A+GTCLASS/CSE8803/paper/code/data/csr_matrix.mtx', X_train_counts)"
   ]
  },
  {
   "cell_type": "markdown",
   "metadata": {},
   "source": [
    "## Join dataset together"
   ]
  },
  {
   "cell_type": "code",
   "execution_count": 8,
   "metadata": {
    "collapsed": false
   },
   "outputs": [
    {
     "data": {
      "text/html": [
       "<div>\n",
       "<table border=\"1\" class=\"dataframe\">\n",
       "  <thead>\n",
       "    <tr style=\"text-align: right;\">\n",
       "      <th></th>\n",
       "      <th>subject_id</th>\n",
       "      <th>vocab</th>\n",
       "    </tr>\n",
       "  </thead>\n",
       "  <tbody>\n",
       "    <tr>\n",
       "      <th>0</th>\n",
       "      <td>3</td>\n",
       "      <td>0</td>\n",
       "    </tr>\n",
       "    <tr>\n",
       "      <th>1</th>\n",
       "      <td>4</td>\n",
       "      <td>1</td>\n",
       "    </tr>\n",
       "    <tr>\n",
       "      <th>2</th>\n",
       "      <td>6</td>\n",
       "      <td>2</td>\n",
       "    </tr>\n",
       "    <tr>\n",
       "      <th>3</th>\n",
       "      <td>9</td>\n",
       "      <td>3</td>\n",
       "    </tr>\n",
       "    <tr>\n",
       "      <th>4</th>\n",
       "      <td>11</td>\n",
       "      <td>4</td>\n",
       "    </tr>\n",
       "  </tbody>\n",
       "</table>\n",
       "</div>"
      ],
      "text/plain": [
       "   subject_id  vocab\n",
       "0           3      0\n",
       "1           4      1\n",
       "2           6      2\n",
       "3           9      3\n",
       "4          11      4"
      ]
     },
     "execution_count": 8,
     "metadata": {},
     "output_type": "execute_result"
    }
   ],
   "source": [
    "df_tfidf=pd.DataFrame(zip(row_num,range(X_train_counts.shape[0])),columns=[\"subject_id\",\"vocab\"])\n",
    "df_tfidf['subject_id']=df_tfidf['subject_id'].astype(int)\n",
    "df_tfidf.head()"
   ]
  },
  {
   "cell_type": "code",
   "execution_count": 102,
   "metadata": {
    "collapsed": false
   },
   "outputs": [],
   "source": [
    "df_fea=pd.DataFrame(zip(range(len(feature_all)),feature_all),columns=[\"word_id\",\"word\"])\n",
    "df_fea.to_csv('E:/A+GTCLASS/CSE8803/paper/code/data/lookupword.csv',index=False)"
   ]
  },
  {
   "cell_type": "code",
   "execution_count": 99,
   "metadata": {
    "collapsed": true
   },
   "outputs": [],
   "source": [
    "df_tfidf.to_csv('E:/A+GTCLASS/CSE8803/paper/code/data/lookupdoc.csv',index=False)"
   ]
  },
  {
   "cell_type": "code",
   "execution_count": 47,
   "metadata": {
    "collapsed": false
   },
   "outputs": [
    {
     "data": {
      "text/html": [
       "<div>\n",
       "<table border=\"1\" class=\"dataframe\">\n",
       "  <thead>\n",
       "    <tr style=\"text-align: right;\">\n",
       "      <th></th>\n",
       "      <th>row_id</th>\n",
       "      <th>subject_id</th>\n",
       "      <th>gender</th>\n",
       "      <th>dob</th>\n",
       "      <th>dod</th>\n",
       "      <th>dod_hosp</th>\n",
       "      <th>dod_ssn</th>\n",
       "      <th>expire_flag</th>\n",
       "      <th>dead_in_hospital</th>\n",
       "    </tr>\n",
       "  </thead>\n",
       "  <tbody>\n",
       "    <tr>\n",
       "      <th>0</th>\n",
       "      <td>612</td>\n",
       "      <td>646</td>\n",
       "      <td>1</td>\n",
       "      <td>2128-01-05 00:00:00</td>\n",
       "      <td>NaN</td>\n",
       "      <td>NaN</td>\n",
       "      <td>NaN</td>\n",
       "      <td>0</td>\n",
       "      <td>0</td>\n",
       "    </tr>\n",
       "    <tr>\n",
       "      <th>1</th>\n",
       "      <td>613</td>\n",
       "      <td>647</td>\n",
       "      <td>1</td>\n",
       "      <td>2106-03-24 00:00:00</td>\n",
       "      <td>NaN</td>\n",
       "      <td>NaN</td>\n",
       "      <td>NaN</td>\n",
       "      <td>0</td>\n",
       "      <td>0</td>\n",
       "    </tr>\n",
       "    <tr>\n",
       "      <th>2</th>\n",
       "      <td>614</td>\n",
       "      <td>648</td>\n",
       "      <td>1</td>\n",
       "      <td>2139-07-13 00:00:00</td>\n",
       "      <td>NaN</td>\n",
       "      <td>NaN</td>\n",
       "      <td>NaN</td>\n",
       "      <td>0</td>\n",
       "      <td>0</td>\n",
       "    </tr>\n",
       "    <tr>\n",
       "      <th>3</th>\n",
       "      <td>615</td>\n",
       "      <td>649</td>\n",
       "      <td>1</td>\n",
       "      <td>2177-06-23 00:00:00</td>\n",
       "      <td>NaN</td>\n",
       "      <td>NaN</td>\n",
       "      <td>NaN</td>\n",
       "      <td>0</td>\n",
       "      <td>0</td>\n",
       "    </tr>\n",
       "    <tr>\n",
       "      <th>4</th>\n",
       "      <td>616</td>\n",
       "      <td>650</td>\n",
       "      <td>1</td>\n",
       "      <td>2051-04-15 00:00:00</td>\n",
       "      <td>2111-12-28 00:00:00</td>\n",
       "      <td>NaN</td>\n",
       "      <td>2111-12-28 00:00:00</td>\n",
       "      <td>1</td>\n",
       "      <td>0</td>\n",
       "    </tr>\n",
       "  </tbody>\n",
       "</table>\n",
       "</div>"
      ],
      "text/plain": [
       "   row_id  subject_id  gender                  dob                  dod  \\\n",
       "0     612         646       1  2128-01-05 00:00:00                  NaN   \n",
       "1     613         647       1  2106-03-24 00:00:00                  NaN   \n",
       "2     614         648       1  2139-07-13 00:00:00                  NaN   \n",
       "3     615         649       1  2177-06-23 00:00:00                  NaN   \n",
       "4     616         650       1  2051-04-15 00:00:00  2111-12-28 00:00:00   \n",
       "\n",
       "  dod_hosp              dod_ssn  expire_flag  dead_in_hospital  \n",
       "0      NaN                  NaN            0                 0  \n",
       "1      NaN                  NaN            0                 0  \n",
       "2      NaN                  NaN            0                 0  \n",
       "3      NaN                  NaN            0                 0  \n",
       "4      NaN  2111-12-28 00:00:00            1                 0  "
      ]
     },
     "execution_count": 47,
     "metadata": {},
     "output_type": "execute_result"
    }
   ],
   "source": [
    "df_heart=pd.read_csv('E:/A+GTCLASS/CSE8803/paper/code/data/patients_tab.csv')#patient table\n",
    "df_heart['subject_id']=df_heart['subject_id'].astype(int)\n",
    "df_heart.set_value(pd.isnull(df_heart[\"dod_hosp\"]), 'dead_in_hospital', 0)\n",
    "df_heart.set_value(pd.notnull(df_heart[\"dod_hosp\"]), 'dead_in_hospital', 1)\n",
    "df_heart.head()"
   ]
  },
  {
   "cell_type": "code",
   "execution_count": 48,
   "metadata": {
    "collapsed": false
   },
   "outputs": [
    {
     "data": {
      "text/html": [
       "<div>\n",
       "<table border=\"1\" class=\"dataframe\">\n",
       "  <thead>\n",
       "    <tr style=\"text-align: right;\">\n",
       "      <th></th>\n",
       "      <th>subject_id</th>\n",
       "      <th>vocab</th>\n",
       "      <th>row_id</th>\n",
       "      <th>gender</th>\n",
       "      <th>dob</th>\n",
       "      <th>dod</th>\n",
       "      <th>dod_hosp</th>\n",
       "      <th>dod_ssn</th>\n",
       "      <th>expire_flag</th>\n",
       "      <th>dead_in_hospital</th>\n",
       "    </tr>\n",
       "  </thead>\n",
       "  <tbody>\n",
       "    <tr>\n",
       "      <th>0</th>\n",
       "      <td>3</td>\n",
       "      <td>0</td>\n",
       "      <td>2</td>\n",
       "      <td>1</td>\n",
       "      <td>2025-04-11 00:00:00</td>\n",
       "      <td>2102-06-14 00:00:00</td>\n",
       "      <td>NaN</td>\n",
       "      <td>2102-06-14 00:00:00</td>\n",
       "      <td>1</td>\n",
       "      <td>0</td>\n",
       "    </tr>\n",
       "    <tr>\n",
       "      <th>1</th>\n",
       "      <td>4</td>\n",
       "      <td>1</td>\n",
       "      <td>3</td>\n",
       "      <td>0</td>\n",
       "      <td>2143-05-12 00:00:00</td>\n",
       "      <td>NaN</td>\n",
       "      <td>NaN</td>\n",
       "      <td>NaN</td>\n",
       "      <td>0</td>\n",
       "      <td>0</td>\n",
       "    </tr>\n",
       "    <tr>\n",
       "      <th>2</th>\n",
       "      <td>6</td>\n",
       "      <td>2</td>\n",
       "      <td>5</td>\n",
       "      <td>0</td>\n",
       "      <td>2109-06-21 00:00:00</td>\n",
       "      <td>NaN</td>\n",
       "      <td>NaN</td>\n",
       "      <td>NaN</td>\n",
       "      <td>0</td>\n",
       "      <td>0</td>\n",
       "    </tr>\n",
       "    <tr>\n",
       "      <th>3</th>\n",
       "      <td>9</td>\n",
       "      <td>3</td>\n",
       "      <td>8</td>\n",
       "      <td>1</td>\n",
       "      <td>2108-01-26 00:00:00</td>\n",
       "      <td>2149-11-14 00:00:00</td>\n",
       "      <td>2149-11-14 00:00:00</td>\n",
       "      <td>2149-11-14 00:00:00</td>\n",
       "      <td>1</td>\n",
       "      <td>1</td>\n",
       "    </tr>\n",
       "    <tr>\n",
       "      <th>4</th>\n",
       "      <td>11</td>\n",
       "      <td>4</td>\n",
       "      <td>10</td>\n",
       "      <td>0</td>\n",
       "      <td>2128-02-22 00:00:00</td>\n",
       "      <td>2178-11-14 00:00:00</td>\n",
       "      <td>NaN</td>\n",
       "      <td>2178-11-14 00:00:00</td>\n",
       "      <td>1</td>\n",
       "      <td>0</td>\n",
       "    </tr>\n",
       "  </tbody>\n",
       "</table>\n",
       "</div>"
      ],
      "text/plain": [
       "   subject_id  vocab  row_id  gender                  dob  \\\n",
       "0           3      0       2       1  2025-04-11 00:00:00   \n",
       "1           4      1       3       0  2143-05-12 00:00:00   \n",
       "2           6      2       5       0  2109-06-21 00:00:00   \n",
       "3           9      3       8       1  2108-01-26 00:00:00   \n",
       "4          11      4      10       0  2128-02-22 00:00:00   \n",
       "\n",
       "                   dod             dod_hosp              dod_ssn  expire_flag  \\\n",
       "0  2102-06-14 00:00:00                  NaN  2102-06-14 00:00:00            1   \n",
       "1                  NaN                  NaN                  NaN            0   \n",
       "2                  NaN                  NaN                  NaN            0   \n",
       "3  2149-11-14 00:00:00  2149-11-14 00:00:00  2149-11-14 00:00:00            1   \n",
       "4  2178-11-14 00:00:00                  NaN  2178-11-14 00:00:00            1   \n",
       "\n",
       "   dead_in_hospital  \n",
       "0                 0  \n",
       "1                 0  \n",
       "2                 0  \n",
       "3                 1  \n",
       "4                 0  "
      ]
     },
     "execution_count": 48,
     "metadata": {},
     "output_type": "execute_result"
    }
   ],
   "source": [
    "df_merge=df_tfidf.merge(df_heart,on=['subject_id'],how='inner')\n",
    "df_merge.head()"
   ]
  },
  {
   "cell_type": "code",
   "execution_count": 11,
   "metadata": {
    "collapsed": false
   },
   "outputs": [],
   "source": [
    "from scipy.sparse import csr_matrix\n",
    "from sklearn import linear_model\n",
    "from sklearn.cross_validation import KFold"
   ]
  },
  {
   "cell_type": "markdown",
   "metadata": {},
   "source": [
    "## dead after discharging from hospital using only text data, Naive Bayes"
   ]
  },
  {
   "cell_type": "code",
   "execution_count": 20,
   "metadata": {
    "collapsed": false
   },
   "outputs": [
    {
     "name": "stdout",
     "output_type": "stream",
     "text": [
      "0.701096812152 0.7333368499\n"
     ]
    }
   ],
   "source": [
    "auc,sco=[],[]\n",
    "kf = KFold(df_merge.shape[0], n_folds=10,shuffle=True)\n",
    "for train, test in kf:\n",
    "    training_set,testing_set=df_merge.iloc[train],df_merge.iloc[test]\n",
    "    training_x,training_y=X_train_counts[list(training_set['vocab']),],training_set['expire_flag'].as_matrix()\n",
    "    testing_x,testing_y=X_train_counts[list(testing_set['vocab']),],testing_set['expire_flag'].as_matrix()\n",
    "    clf = MultinomialNB()\n",
    "    clf.fit(training_x,training_y)\n",
    "    pre = clf.predict(testing_x)\n",
    "    score=clf.score(testing_x,testing_y)\n",
    "    sco.append(score)\n",
    "    auc_sco=metrics.roc_auc_score(testing_y,pre)\n",
    "    auc.append(auc_sco)\n",
    "print np.mean(auc),np.mean(sco)"
   ]
  },
  {
   "cell_type": "markdown",
   "metadata": {},
   "source": [
    "## dead in hospital using only text data, Naive Bayes"
   ]
  },
  {
   "cell_type": "code",
   "execution_count": 49,
   "metadata": {
    "collapsed": false
   },
   "outputs": [
    {
     "name": "stdout",
     "output_type": "stream",
     "text": [
      "0.527783884605 0.757894741645\n"
     ]
    }
   ],
   "source": [
    "auc,sco=[],[]\n",
    "kf = KFold(df_merge.shape[0], n_folds=10,shuffle=True)\n",
    "for train, test in kf:\n",
    "    training_set,testing_set=df_merge.iloc[train],df_merge.iloc[test]\n",
    "    training_x,training_y=X_train_counts[list(training_set['vocab']),],training_set['dead_in_hospital'].as_matrix()\n",
    "    testing_x,testing_y=X_train_counts[list(testing_set['vocab']),],testing_set['dead_in_hospital'].as_matrix()\n",
    "    clf = MultinomialNB()\n",
    "    clf.fit(training_x,training_y)\n",
    "    pre = clf.predict(testing_x)\n",
    "    score=clf.score(testing_x,testing_y)\n",
    "    sco.append(score)\n",
    "    auc_sco=metrics.roc_auc_score(testing_y,pre)\n",
    "    auc.append(auc_sco)\n",
    "print np.mean(auc),np.mean(sco)"
   ]
  },
  {
   "cell_type": "code",
   "execution_count": 21,
   "metadata": {
    "collapsed": false
   },
   "outputs": [
    {
     "name": "stdout",
     "output_type": "stream",
     "text": [
      "sinus rhythm normal tracing compared previous tracing ofnodiagnostic interim change sinus rhythmnormal tracingcompared previous tracing rate increasedotherwise diagnostic interim change  yo f pod plif l experienced episode respiratory distress floor possibly dropped sats stridorous episode responded racemic epinephrine coughing sputum respiratory distress assessment admitted floor sp episode sob pt calm adm satson o via fm aox back dressing intact jp serosang output two episodes sob arrival without desat vss febrile tolungs bilat clear stridor anxious action pt reassured cpt qhr instructed calm breathe slowly response relaxed andtalked anxiety symptoms improved sats remainplan monitor resp status overnight tx floor respiratory failure acute ardsdoctor last nameassessment vsso sat high toon rano co sobpt co generalized pain back incisionlungs cta bilatpt aox moves extremities bed action pt instructed use chest pt donedilaudid given prn name mdmd orders pain response pt denied sob majority shiftsats acceptable rapt admits pain relief prn dilaudid plan transfer floor remains stable  yo f history neurogenic claudication conservative therapy unsuccessful mri demonstrated gradespondylolisthesis l stenosis podsp l laminectomy post lat interbody fusion went floor postop andhadepisodes sob stridor desatreceived racemic epi xdiaphoretic tachyepi coughed plug improved transferred sicu monitor respiratory failure acute ardsdoctor last nameassessmentpt ao x co pain lle may started last night per ptvss satsor greater room air afebrilelungs cta diminished bases producing small amts clear white sputum denies sob dyspnea exertionincision low back area original dressing cdi jp drain site sang serosang drainagetolerating diabetic diet metformin initiated actionoob chair atble weak upon standing able transfer chair assist xchest pt coughdeep breathingtyenol pain responsepulm assessment remains previouspain improved tylenolable stand steadily throughout shiftincision dsg remains intact jp drain patent planct scan atxrays follow transfer floorcontinue chest pt iscoughdeep breathingincrease activity tolerated chief complaint respiratory distress hpi yo f pod plif l experienced episode respiratory distress floor possibly dropped sats stridorous episode responded racemic epinephrine coughing sputum post operative day allergies penicillins rash last dose antibiotics infusions icu medications medications past medical history familysocialhistory htn spinal stenosis dm migraine rheumatoid arthritis tobaccoetoh flowsheet data ofpm vital signs hemodynamic monitoring fluid balance hours sinceam tmax ctcurrent chr bpm bp mmhg rr inspmin spoheart rhythm sr sinus rhythm heightinch total inml po tf ivfml blood products total ml ml urineml ng stool drains balance mlml respiratory support o delivery device face tent spoabgphysical examination general appearance well nourished overweightobese eyesconjunctiva perrl head ears nose throat normocephalic cardiovascular normal normal peripheral vascular right radial pulse assessed left radial pulse assessed right dp pulse assessed left dp pulse assessed respiratorychest breath sounds clear abdominal soft skinnot assessed neurologic attentive responds assessed oriented x movement assessed tone assessed labsradiology imagejpg assessment plan assessment planyo f sp plif l suffered episode respiratory distress pod neurologic ao issues q neuro check prn dilaudid pain cardiovascular stable continue atenolol lisinopril bp pulmonary stable episodes resp distress humidifiedpresently wean gastrointestinal tolerating diabetic diet renal foley cath continue oob hematology hctfollow infectious disease issues endocrine ssi holding metformin dc ssi start metformin taking po fluids nscch change lrheplock taking po electrolytes lytes nl recheck nutrition diabetic diet general likely transfer floor icu care nutrition glycemic controlregular insulin sliding scale linesgaugepmgaugepm prophylaxis dvt boots stress ulcer vap comments communicationcomments code status full code disposition transfer floor total time spent  yo f history neurogenic claudication conservative therapy unsuccessful mri demonstrated gradespondylolisthesis l stenosis podsp l laminectomy post lat interbody fusion went floor postop andhadepisodes sob stridor desatreceived racemic epi xdiaphoretic tachyepi coughed plug improved transferred sicu monitor respiratory failure acute ardsdoctor last nameassessmentpt ao x co pain lle may started last night per ptvss satsor greater room air afebrilelungs cta diminished bases producing small amts clear white sputum denies sob dyspnea exertionincision low back area original dressing cdi jp drain site sang serosang drainagetolerating diabetic diet metformin initiated actionoob chair atble weak upon standing able transfer chair assist xchest pt coughdeep breathingtyenol pain responsepulm assessment remains previouspain improved tylenolable stand steadily throughout shiftincision dsg remains intact jp drain patent planct scan atxrays follow transfer floorcontinue chest pt iscoughdeep breathingincrease activity tolerated demographics attending md doctor last namedoctor last namew admit diagnosis spondylolisthesissda code status full code heightinch admission weightkg daily weight allergiesreactions penicillins rash precautions additional precautions pmhasthma diabetesoral doctor last namecvpmhhypertension additional history surgeryprocedure date l laminectomy facetectomybone marrow aspiratelocal autograftpedicle screw insertion nonsegmental lposterior lumbar interbody fusion l latest vital signs io noninvasive bp d temperaturearterial bp d respiratory rateinspmin heart ratebpm heart rhythm sr sinus rhythm o delivery device none o saturation o flowlmin fio set h total inml h total outml pertinent lab results sodiummeql potassiummeql chloridemeql comeql bunmgdl creatininemgdl glucosemgdl hematocrit finger stick glucoseam valuablessignature patient valuables valuables clothessent home walletmoney moneywallet cashcredit cards sent home jewelry transferred transferred datetime transfer sicu hpif pod sp plif respiratory distress pacu chief complaintt breathe pmhx diabetes htn angina arthritis depression allergies penicillins rash last dose antibiotics infusions icu medications hydromorphone dilaudidpm flowsheet data ofam vital signs hemodynamic monitoring fluid balance hours sinceam tmax ct current chr bpm bp mmhg rr inspmin spoheart rhythm sr sinus rhythm heightinch total ml ml po tube feeding iv fluid ml ml blood products total ml ml urine ml ml ng stool drains mlml balancemlml respiratory support o delivery device none spoabgphysical examination general appearance acute distress heent perrl cardiovascular rhythm regular respiratorychest breath sounds cta bilateral abdominal soft neurologic awakealertoriented xfollows simple commands moves extremities labsradiologyimagejpg assessment plan respiratory failure acute ardsdoctor last nameassessment plan much improved transfer floor neurologic ao stable cardiovascular issues stable pulmonary significant resp events one episode anxiety tx w deep breathing coughing sats remain high consistently oob cpt gastrointestinalabdomen tolerating diet nutrition regular diet renal foley dc today prim team encouraging oob hematology none needed endocrine riss dc riss start metformin today infectious disease issues linestubesdrains foley dc today wounds dry dressings imaging fluids lr kvo today consults neuro surgery billing diagnosis respiratory distress insufficiencypostop icu care glycemic controlregular insulin sliding scale linesgaugepmgaugepm prophylaxis dvt boots sq uf heparin stress ulcer ppi vap bundle comments communication icu consent signed comments code status full code disposition icu total time spentminutes sicu hpif pod sp plif respiratory distress pacu chief complaintt breathe pmhx diabetes htn angina arthritis depression current medicationshour events allergies penicillins rash last dose antibiotics infusions icu medications hydromorphone dilaudidpm medications flowsheet data ofam vital signs hemodynamic monitoring fluid balance hours sinceam tmax ct current chr bpm bp mmhg rr inspmin spoheart rhythm sr sinus rhythm heightinch total ml ml po tube feeding iv fluid ml ml blood products total ml ml urine ml ml ng stool drains mlml balancemlml respiratory support o delivery device none spoabgphysical examination general appearance acute distress heent perrl cardiovascular rhythm regular respiratorychest breath sounds cta bilateral abdominal soft neurologic awakealertoriented xfollows simple commands moves extremities labsradiologyimagejpg assessment plan respiratory failure acute ardsdoctor last nameassessment plan neurologic ao stable cardiovascular issues stable pulmonary significant resp events one episode anxiety tx w deep breathing coughing sats remain high consistently gastrointestinalabdomen tol diet nutrition regular diet renal foley dc today prim team encouraging oob hematology none needed endocrine riss dc riss start metformin today infectious disease issues linestubesdrains foley dc today wounds dry dressings imaging fluids lr kvo today consults neuro surgery billing diagnosis respiratory distress insufficiencypostop icu care nutrition glycemic controlregular insulin sliding scale linesgaugepmgaugepm prophylaxis dvt boots sq uf heparin stress ulcer ppi vap bundle comments communication icu consent signed comments code status full code disposition icu total time spentminutes respiratory failure acute ardsdoctor last nameassessment vsso sat high toon rano co sobpt co generalized pain back incisionlungs cta bilatpt aox moves extremities bed action pt instructed use chest pt donedilaudid given prn name mdmd orders pain response pt denied sob majority shiftsats acceptable rapt admits pain relief prn dilaudid plan transfer floor remains stable\n"
     ]
    }
   ],
   "source": [
    "print str1"
   ]
  },
  {
   "cell_type": "code",
   "execution_count": 25,
   "metadata": {
    "collapsed": false
   },
   "outputs": [
    {
     "data": {
      "image/png": "[encoded data removed]",
      "text/plain": [
       "<matplotlib.figure.Figure at 0x44eab9b0>"
      ]
     },
     "metadata": {},
     "output_type": "display_data"
    }
   ],
   "source": [
    "%matplotlib inline\n",
    "plot_roc(testing_y,pre)"
   ]
  },
  {
   "cell_type": "markdown",
   "metadata": {},
   "source": [
    "## Dead eventually Using text data only, Random Forest"
   ]
  },
  {
   "cell_type": "code",
   "execution_count": 95,
   "metadata": {
    "collapsed": false
   },
   "outputs": [
    {
     "name": "stdout",
     "output_type": "stream",
     "text": [
      "0.673677488358 0.707746077203\n"
     ]
    }
   ],
   "source": [
    "from sklearn.ensemble import RandomForestClassifier \n",
    "from sklearn.ensemble import GradientBoostingClassifier\n",
    "auc,sco=[],[]\n",
    "kf = KFold(df_merge.shape[0], n_folds=10,shuffle=True)\n",
    "for train, test in kf:\n",
    "    training_set,testing_set=df_merge.iloc[train],df_merge.iloc[test]\n",
    "    training_x,training_y=X_train_counts[list(training_set['vocab']),],training_set['expire_flag'].as_matrix()\n",
    "    testing_x,testing_y=X_train_counts[list(testing_set['vocab']),],testing_set['expire_flag'].as_matrix()\n",
    "    clf=RandomForestClassifier(max_depth=30, n_estimators=10)\n",
    "    clf.fit(training_x,training_y)\n",
    "    pre = clf.predict(testing_x)\n",
    "    score=clf.score(testing_x,testing_y)\n",
    "    sco.append(score)\n",
    "    auc_sco=metrics.roc_auc_score(testing_y,pre)\n",
    "    auc.append(auc_sco)\n",
    "print np.mean(auc),np.mean(sco)"
   ]
  },
  {
   "cell_type": "code",
   "execution_count": 96,
   "metadata": {
    "collapsed": false
   },
   "outputs": [
    {
     "data": {
      "image/png": "[encoded data removed]",
      "text/plain": [
       "<matplotlib.figure.Figure at 0x5e3a6b00>"
      ]
     },
     "metadata": {},
     "output_type": "display_data"
    }
   ],
   "source": [
    "plot_roc(testing_y,pre)"
   ]
  },
  {
   "cell_type": "markdown",
   "metadata": {},
   "source": [
    "## dead in hopital with only text data, using Random Forest and Gradient Boosting"
   ]
  },
  {
   "cell_type": "code",
   "execution_count": 50,
   "metadata": {
    "collapsed": false
   },
   "outputs": [
    {
     "name": "stdout",
     "output_type": "stream",
     "text": [
      "0.568311263809 0.577480406774\n"
     ]
    }
   ],
   "source": [
    "auc,auc1=[],[]\n",
    "kf = KFold(df_merge.shape[0], n_folds=10,shuffle=True)\n",
    "for train, test in kf:\n",
    "    training_set,testing_set=df_merge.iloc[train],df_merge.iloc[test]\n",
    "    training_x,training_y=X_train_counts[list(training_set['vocab']),],training_set['dead_in_hospital'].as_matrix()\n",
    "    testing_x,testing_y=X_train_counts[list(testing_set['vocab']),],testing_set['dead_in_hospital'].as_matrix()\n",
    "    clf=RandomForestClassifier(max_depth=30, n_estimators=10)\n",
    "    clf.fit(training_x,training_y)\n",
    "    pre = clf.predict(testing_x)\n",
    "    auc_sco=metrics.roc_auc_score(testing_y,pre)\n",
    "    auc.append(auc_sco)\n",
    "    clf1=GradientBoostingClassifier(n_estimators=10)\n",
    "    clf1.fit(training_x,training_y)\n",
    "    pre1 = clf1.predict(testing_x.toarray())\n",
    "    auc_sco1=metrics.roc_auc_score(testing_y,pre1)\n",
    "    auc1.append(auc_sco1)    \n",
    "print np.mean(auc),np.mean(auc1)"
   ]
  },
  {
   "cell_type": "markdown",
   "metadata": {},
   "source": [
    "## Classify using gradient boosting classifier with only text data"
   ]
  },
  {
   "cell_type": "code",
   "execution_count": 99,
   "metadata": {
    "collapsed": false
   },
   "outputs": [
    {
     "name": "stdout",
     "output_type": "stream",
     "text": [
      "0.63543377657\n"
     ]
    }
   ],
   "source": [
    "from sklearn.ensemble import GradientBoostingClassifier\n",
    "auc=[]\n",
    "kf = KFold(df_merge.shape[0], n_folds=10,shuffle=True)\n",
    "for train, test in kf:\n",
    "    training_set,testing_set=df_merge.iloc[train],df_merge.iloc[test]\n",
    "    training_x,training_y=X_train_counts[list(training_set['vocab']),],training_set['expire_flag'].as_matrix()\n",
    "    testing_x,testing_y=X_train_counts[list(testing_set['vocab']),],testing_set['expire_flag'].as_matrix()\n",
    "    clf=GradientBoostingClassifier(n_estimators=10)\n",
    "    clf.fit(training_x,training_y)\n",
    "    pre = clf.predict(testing_x.toarray())\n",
    "    auc_sco=metrics.roc_auc_score(testing_y,pre)\n",
    "    auc.append(auc_sco)\n",
    "print np.mean(auc)"
   ]
  },
  {
   "cell_type": "code",
   "execution_count": 100,
   "metadata": {
    "collapsed": false
   },
   "outputs": [
    {
     "data": {
      "image/png": "[encoded data removed]",
      "text/plain": [
       "<matplotlib.figure.Figure at 0x7b3175f8>"
      ]
     },
     "metadata": {},
     "output_type": "display_data"
    }
   ],
   "source": [
    "plot_roc(testing_y,pre)"
   ]
  },
  {
   "cell_type": "markdown",
   "metadata": {},
   "source": [
    "## Topic Modeling using NMF and LDA"
   ]
  },
  {
   "cell_type": "code",
   "execution_count": 132,
   "metadata": {
    "collapsed": false
   },
   "outputs": [
    {
     "name": "stdout",
     "output_type": "stream",
     "text": [
      "Topic #0:\n",
      "right pleural lung lobe chest left effusion lower upper small\n",
      "Topic #1:\n",
      "thick trach yellow secretions pt vent resp remains coarse via\n",
      "Topic #2:\n",
      "normal valve size wall aortic mitral leaflets systolic function chamber\n",
      "Topic #3:\n",
      "ml assessed history pulse icu patient po total review mgdl\n",
      "Topic #4:\n",
      "subdural hematoma sdh head evacuation midline frontal shift ct wo\n",
      "Topic #5:\n",
      "cabg coronary artery bypass chest graft diseasecoronary pneumothorax post pleural\n",
      "Topic #6:\n",
      "dissection cta aortic aorta wwo crecons aneurysm thoracic aaa repair\n",
      "Topic #7:\n",
      "neo good clear pain wean sbp cabg given per bs\n",
      "Topic #8:\n",
      "fracture fractures trauma rib fall injury ct cervical head sp\n",
      "Topic #9:\n",
      "liver hepatic transplant portal biopsy patent lesions us flow normal\n",
      "Topic #10:\n",
      "portal vein tips hepatic flow cirrhosis patent main liver thrombosis\n",
      "Topic #11:\n",
      "metastatic cancer breast lesions lesion cell ca disease new melanoma\n",
      "Topic #12:\n",
      "spine spinal cervical fusion cord lumbar disc thoracic vertebral posterior\n",
      "Topic #13:\n",
      "ascites paracentesis cirrhosis liver therapeutic gallbladder amount procedure please ultrasound\n",
      "Topic #14:\n",
      "carotid artery aneurysm internal common vertebral cerebral numeric right stenosis\n",
      "Topic #15:\n",
      "bowel abdominal obstruction abdomen small air loops pain colon free\n",
      "Topic #16:\n",
      "renal kidney transplant failure hydronephrosis acute left nephrostomy right chronic\n",
      "Topic #17:\n",
      "woman pulmonary chest year pleural number report radiologyreason edema reason\n",
      "Topic #18:\n",
      "valve mildly ventricular dilated thickened mitral regurgitation leaflets moderate aortic\n",
      "Topic #19:\n",
      "mass brain frontal resection head mr enhancement lesion tumor mri\n",
      "Topic #20:\n",
      "gi hct bleed bleeding blood gib gastrointestinal stable egd stool\n",
      "Topic #21:\n",
      "pericardial effusion quality ventricle patienttest study nonetechnical test drain informationindication\n",
      "Topic #22:\n",
      "aortic valve avr replacement aorta chest pleural stenosisaortic mitral sdaunderlying\n",
      "Topic #23:\n",
      "hip fracture femur femoral right left pelvis fall pain acetabular\n",
      "Topic #24:\n",
      "biliary duct ercp bile stent common cbd gallbladder cholangitis intrahepatic\n",
      "Topic #25:\n",
      "femoral veins vein extremity lower common dvt ivc right left\n",
      "Topic #26:\n",
      "pt name clear given hr co pain noted foley micu\n",
      "Topic #27:\n",
      "pancreatic pancreatitis pancreas pseudocyst pancreatitisunderlying fluid duct collection whipple abd\n",
      "Topic #28:\n",
      "assessment ml response plan action respiratory sounds failure comments continue\n",
      "Topic #29:\n",
      "mca stroke head cerebral infarct ischemic left right tpa middle\n",
      "Topic #30:\n",
      "hd dialysis esrd renal catheter line hemodialysis tunneled today end\n",
      "Topic #31:\n",
      "date order ml neuro extremities po iv prn sliding total\n",
      "Topic #32:\n",
      "picc line tip placement right diagnosis admitting left name new\n",
      "Topic #33:\n",
      "ml pain assessment plan response extremities rhythm action total temporary\n",
      "Topic #34:\n",
      "exercise perfusion images resting obtained heart prior wall ventricular name\n",
      "Topic #35:\n",
      "myocardial st inferior segment leads infarction regional elevation anterior wall\n",
      "Topic #36:\n",
      "volume index enddiastolic regurgitant name mm diameter mr lv fraction\n",
      "Topic #37:\n",
      "ccu cath groin mg iabp cardiac lasix pt ventricular sp\n",
      "Topic #38:\n",
      "vent remains pt intubated family resp thick increased support wean\n",
      "Topic #39:\n",
      "foot ankle ulcer metatarsal right osteomyelitis left tissue toe leg\n",
      "Topic #40:\n",
      "hemorrhage head subarachnoid frontal intracranial ct intraparenchymal neuro right hemorrhageunderlying\n",
      "Topic #41:\n",
      "fracture femur distal ankle views fx proximal comminuted left tibial\n",
      "Topic #42:\n",
      "ct pelvis contrast abdomen within wcontrast fluid optiray iv without\n",
      "Topic #43:\n",
      "etoh seizure ciwa withdrawal valium alcohol abuse seizures ativan scale\n",
      "Topic #44:\n",
      "tracing wave previous sinus stt atrial rhythm compared ventricular changes\n",
      "Topic #45:\n",
      "tube chest portable man placement tip ap pneumothorax admitting reason\n",
      "Topic #46:\n",
      "knee joint medial pain lateral tibial plateau right total leg\n",
      "Topic #47:\n",
      "insulin gtt bs per pt started dka drip heparin name\n",
      "Topic #48:\n",
      "catheter procedure name numeric dr last advanced patient performed sheath\n",
      "Topic #49:\n",
      "esophageal esophagectomy esophagus gastric leak cancer chest cancersdaunderlying stent fdg\n",
      "()\n"
     ]
    }
   ],
   "source": [
    "nmf_model = NMF(n_components=50, random_state=1, alpha=.1, l1_ratio=.5)\n",
    "nmf_model.fit(X_train_counts)\n",
    "print_top_words(nmf_model, feature_all, 10)"
   ]
  },
  {
   "cell_type": "code",
   "execution_count": 35,
   "metadata": {
    "collapsed": false
   },
   "outputs": [
    {
     "data": {
      "text/plain": [
       "(50L, 53741L)"
      ]
     },
     "execution_count": 35,
     "metadata": {},
     "output_type": "execute_result"
    }
   ],
   "source": [
    "nmf_model.components_.shape"
   ]
  },
  {
   "cell_type": "code",
   "execution_count": 133,
   "metadata": {
    "collapsed": false
   },
   "outputs": [
    {
     "data": {
      "text/plain": [
       "(37748L, 50L)"
      ]
     },
     "execution_count": 133,
     "metadata": {},
     "output_type": "execute_result"
    }
   ],
   "source": [
    "nmf_topic_vec=X_train_counts.dot(nmf_model.components_.T)\n",
    "nmf_topic_vec.shape"
   ]
  },
  {
   "cell_type": "code",
   "execution_count": 12,
   "metadata": {
    "collapsed": true
   },
   "outputs": [],
   "source": [
    "count_vect_real = CountVectorizer()\n",
    "X_counts = count_vect_real.fit_transform(doc_all)\n",
    "feature=count_vect_real.get_feature_names()"
   ]
  },
  {
   "cell_type": "code",
   "execution_count": 128,
   "metadata": {
    "collapsed": false
   },
   "outputs": [
    {
     "data": {
      "text/plain": [
       "5"
      ]
     },
     "execution_count": 128,
     "metadata": {},
     "output_type": "execute_result"
    }
   ],
   "source": [
    "X_counts[37747,43770]"
   ]
  },
  {
   "cell_type": "code",
   "execution_count": 104,
   "metadata": {
    "collapsed": true
   },
   "outputs": [],
   "source": [
    "mmwrite('E:/A+GTCLASS/CSE8803/paper/code/data/csr_matrix_count.mtx', X_counts)"
   ]
  },
  {
   "cell_type": "code",
   "execution_count": 105,
   "metadata": {
    "collapsed": true
   },
   "outputs": [],
   "source": [
    "df_fea1=pd.DataFrame(zip(range(len(feature)),feature),columns=[\"word_id\",\"word\"])\n",
    "df_fea1.to_csv('E:/A+GTCLASS/CSE8803/paper/code/data/lookupwordcount.csv',index=False)"
   ]
  },
  {
   "cell_type": "code",
   "execution_count": 13,
   "metadata": {
    "collapsed": false
   },
   "outputs": [
    {
     "name": "stdout",
     "output_type": "stream",
     "text": [
      "Topic #0:\n",
      "pt name placed last noted iv given per cont today\n",
      "Topic #1:\n",
      "right ct left lobe chest upper prior number images within\n",
      "Topic #2:\n",
      "pt thick vent remains resp name secretions yellow cont bs\n",
      "Topic #3:\n",
      "pain old left right chest pt report medical name normal\n",
      "Topic #4:\n",
      "ml assessed icu pulse history total assessment po mgdl patient\n",
      "Topic #5:\n",
      "paced pacer vt av rhythm pacemaker ventricular icd sp block\n",
      "Topic #6:\n",
      "right tube left chest report number reason old medical radiologyreason\n",
      "Topic #7:\n",
      "ca cancer metastatic lung right cell left breast mass patient\n",
      "Topic #8:\n",
      "aortic aorta dissection chest repair cta thoracic aaa ascending aneurysm\n",
      "Topic #9:\n",
      "intubated pt gtt propofol increased fentanyl remains vent wean sedation\n",
      "Topic #10:\n",
      "liver cirrhosis ascites hepatic name tips lactulose transplant paracentesis portal\n",
      "Topic #11:\n",
      "pleural effusion chest right left pericardial effusions fluid small bilateral\n",
      "Topic #12:\n",
      "valve normal aortic left ventricular mild seen mitral mildly right\n",
      "Topic #13:\n",
      "fracture left right sp hip trauma fractures fx pain ct\n",
      "Topic #14:\n",
      "fever ml given likely blood patient negative urine also ct\n",
      "Topic #15:\n",
      "airway neck aspiration cough pt intubated found swelling tube swallow\n",
      "Topic #16:\n",
      "ml neuro hemorrhage ct assessment right head left plan pt\n",
      "Topic #17:\n",
      "etoh pt abuse alcohol patient withdrawal mg ciwa history iv\n",
      "Topic #18:\n",
      "mental status altered seizure head aspiration neuro noted pt ct\n",
      "Topic #19:\n",
      "cad pain cardiac cath chest pt mg assessment heparin plan\n",
      "Topic #20:\n",
      "afib atrial fibrillation coumadin mg po pt iv rate gtt\n",
      "Topic #21:\n",
      "artery carotid right left internal name aneurysm common evidence number\n",
      "Topic #22:\n",
      "ml respiratory failure assessment tube pt plan sounds assessed lung\n",
      "Topic #23:\n",
      "pain patient history nausea denies ercp ed transferred abdominal admitted\n",
      "Topic #24:\n",
      "ml assessment sounds tube plan lung comments respiratory pt response\n",
      "Topic #25:\n",
      "family patient arrest care name home aspiration age cardiac ed\n",
      "Topic #26:\n",
      "neuro head ct left right hemorrhage subarachnoid stroke name drain\n",
      "Topic #27:\n",
      "cabg artery coronary chest sp bypass neo post graft left\n",
      "Topic #28:\n",
      "name pt last draining clear per intact abd gtt monitor\n",
      "Topic #29:\n",
      "abdominal pain bowel fluid abd ct drainage abdomen pt small\n",
      "Topic #30:\n",
      "ml insulin assessment pain plan name pm pt present rhythm\n",
      "Topic #31:\n",
      "spine fracture cervical report number radiologyreason reason spinal left soft\n",
      "Topic #32:\n",
      "pain wound skin pt right left plan chronic control vascular\n",
      "Topic #33:\n",
      "failure renal acute pt plan skin assessment response action continue\n",
      "Topic #34:\n",
      "mass brain mr right left head mri lesion frontal resection\n",
      "Topic #35:\n",
      "liver hepatic biliary right vein transplant portal name report normal\n",
      "Topic #36:\n",
      "hct bleed gi bleeding blood stable stool gib plan lower\n",
      "Topic #37:\n",
      "pt co clear pain foley good hr given soft able\n",
      "Topic #38:\n",
      "catheter name right procedure left vein line last patient first\n",
      "Topic #39:\n",
      "renal hd dialysis line esrd kidney left disease transplant failure\n",
      "Topic #40:\n",
      "lasix failure chronic chf heart pt acute edema assessment mg\n",
      "Topic #41:\n",
      "head ct left right hemorrhage number report frontal old wo\n",
      "Topic #42:\n",
      "ml date pain iv assessment plan po total sp extremities\n",
      "Topic #43:\n",
      "ml assessment plan response icu po assessed mgdl action pt\n",
      "Topic #44:\n",
      "chest number radiologyreason reason year report medical admitting condition diagnosis\n",
      "Topic #45:\n",
      "ct abdomen contrast pelvis free small within bowel fluid seen\n",
      "Topic #46:\n",
      "pt previous left sinus tracing ventricular ccu wave mg change\n",
      "Topic #47:\n",
      "normal valve ventricular left wall aortic mildly size mitral leaflets\n",
      "Topic #48:\n",
      "chest right left tube pneumothorax lung sp report post reason\n",
      "Topic #49:\n",
      "copd pulmonary respiratory pt chest pneumonia cough pe home bipap\n",
      "()\n"
     ]
    }
   ],
   "source": [
    "lda = lda.LDA(n_topics=50, n_iter=150, random_state=1)\n",
    "lda.fit(X_counts)\n",
    "doc_topic=lda.doc_topic_\n",
    "print_top_words(lda, feature, 10)"
   ]
  },
  {
   "cell_type": "code",
   "execution_count": 156,
   "metadata": {
    "collapsed": false
   },
   "outputs": [
    {
     "data": {
      "text/plain": [
       "(37748L, 50L)"
      ]
     },
     "execution_count": 156,
     "metadata": {},
     "output_type": "execute_result"
    }
   ],
   "source": [
    "doc_topic.shape"
   ]
  },
  {
   "cell_type": "code",
   "execution_count": 14,
   "metadata": {
    "collapsed": false
   },
   "outputs": [
    {
     "data": {
      "text/html": [
       "<div>\n",
       "<table border=\"1\" class=\"dataframe\">\n",
       "  <thead>\n",
       "    <tr style=\"text-align: right;\">\n",
       "      <th></th>\n",
       "      <th>subject_id</th>\n",
       "      <th>topic</th>\n",
       "    </tr>\n",
       "  </thead>\n",
       "  <tbody>\n",
       "    <tr>\n",
       "      <th>0</th>\n",
       "      <td>3</td>\n",
       "      <td>0</td>\n",
       "    </tr>\n",
       "    <tr>\n",
       "      <th>1</th>\n",
       "      <td>4</td>\n",
       "      <td>1</td>\n",
       "    </tr>\n",
       "    <tr>\n",
       "      <th>2</th>\n",
       "      <td>6</td>\n",
       "      <td>2</td>\n",
       "    </tr>\n",
       "    <tr>\n",
       "      <th>3</th>\n",
       "      <td>9</td>\n",
       "      <td>3</td>\n",
       "    </tr>\n",
       "    <tr>\n",
       "      <th>4</th>\n",
       "      <td>11</td>\n",
       "      <td>4</td>\n",
       "    </tr>\n",
       "  </tbody>\n",
       "</table>\n",
       "</div>"
      ],
      "text/plain": [
       "   subject_id  topic\n",
       "0           3      0\n",
       "1           4      1\n",
       "2           6      2\n",
       "3           9      3\n",
       "4          11      4"
      ]
     },
     "execution_count": 14,
     "metadata": {},
     "output_type": "execute_result"
    }
   ],
   "source": [
    "df_topic=pd.DataFrame(zip(row_num,range(doc_topic.shape[0])),columns=[\"subject_id\",\"topic\"])\n",
    "df_topic['subject_id']=df_topic['subject_id'].astype(int)\n",
    "df_topic.head()"
   ]
  },
  {
   "cell_type": "markdown",
   "metadata": {},
   "source": [
    "## Join data with topic features"
   ]
  },
  {
   "cell_type": "code",
   "execution_count": 15,
   "metadata": {
    "collapsed": false,
    "scrolled": true
   },
   "outputs": [
    {
     "data": {
      "text/html": [
       "<div>\n",
       "<table border=\"1\" class=\"dataframe\">\n",
       "  <thead>\n",
       "    <tr style=\"text-align: right;\">\n",
       "      <th></th>\n",
       "      <th>subject_id</th>\n",
       "      <th>topic</th>\n",
       "      <th>hadm_id</th>\n",
       "      <th>icustay_id</th>\n",
       "      <th>sapsii</th>\n",
       "      <th>sapsii_prob</th>\n",
       "      <th>age_score</th>\n",
       "      <th>hr_score</th>\n",
       "      <th>sysbp_score</th>\n",
       "      <th>temp_score</th>\n",
       "      <th>...</th>\n",
       "      <th>uo_score</th>\n",
       "      <th>bun_score</th>\n",
       "      <th>wbc_score</th>\n",
       "      <th>potassium_score</th>\n",
       "      <th>sodium_score</th>\n",
       "      <th>bicarbonate_score</th>\n",
       "      <th>bilirubin_score</th>\n",
       "      <th>gcs_score</th>\n",
       "      <th>comorbidity_score</th>\n",
       "      <th>admissiontype_score</th>\n",
       "    </tr>\n",
       "  </thead>\n",
       "  <tbody>\n",
       "    <tr>\n",
       "      <th>0</th>\n",
       "      <td>3</td>\n",
       "      <td>0</td>\n",
       "      <td>145834</td>\n",
       "      <td>211552</td>\n",
       "      <td>73</td>\n",
       "      <td>0.870860</td>\n",
       "      <td>16</td>\n",
       "      <td>7</td>\n",
       "      <td>13</td>\n",
       "      <td>0</td>\n",
       "      <td>...</td>\n",
       "      <td>11</td>\n",
       "      <td>6</td>\n",
       "      <td>3</td>\n",
       "      <td>3</td>\n",
       "      <td>1</td>\n",
       "      <td>5</td>\n",
       "      <td>0</td>\n",
       "      <td>0</td>\n",
       "      <td>0</td>\n",
       "      <td>8</td>\n",
       "    </tr>\n",
       "    <tr>\n",
       "      <th>1</th>\n",
       "      <td>4</td>\n",
       "      <td>1</td>\n",
       "      <td>185777</td>\n",
       "      <td>294638</td>\n",
       "      <td>35</td>\n",
       "      <td>0.166523</td>\n",
       "      <td>7</td>\n",
       "      <td>0</td>\n",
       "      <td>5</td>\n",
       "      <td>0</td>\n",
       "      <td>...</td>\n",
       "      <td>0</td>\n",
       "      <td>0</td>\n",
       "      <td>0</td>\n",
       "      <td>0</td>\n",
       "      <td>0</td>\n",
       "      <td>0</td>\n",
       "      <td>0</td>\n",
       "      <td>0</td>\n",
       "      <td>17</td>\n",
       "      <td>6</td>\n",
       "    </tr>\n",
       "    <tr>\n",
       "      <th>2</th>\n",
       "      <td>6</td>\n",
       "      <td>2</td>\n",
       "      <td>107064</td>\n",
       "      <td>228232</td>\n",
       "      <td>24</td>\n",
       "      <td>0.058153</td>\n",
       "      <td>12</td>\n",
       "      <td>0</td>\n",
       "      <td>0</td>\n",
       "      <td>0</td>\n",
       "      <td>...</td>\n",
       "      <td>0</td>\n",
       "      <td>6</td>\n",
       "      <td>0</td>\n",
       "      <td>3</td>\n",
       "      <td>0</td>\n",
       "      <td>3</td>\n",
       "      <td>0</td>\n",
       "      <td>0</td>\n",
       "      <td>0</td>\n",
       "      <td>0</td>\n",
       "    </tr>\n",
       "    <tr>\n",
       "      <th>3</th>\n",
       "      <td>9</td>\n",
       "      <td>3</td>\n",
       "      <td>150750</td>\n",
       "      <td>220597</td>\n",
       "      <td>22</td>\n",
       "      <td>0.046739</td>\n",
       "      <td>7</td>\n",
       "      <td>0</td>\n",
       "      <td>2</td>\n",
       "      <td>0</td>\n",
       "      <td>...</td>\n",
       "      <td>4</td>\n",
       "      <td>0</td>\n",
       "      <td>0</td>\n",
       "      <td>3</td>\n",
       "      <td>0</td>\n",
       "      <td>0</td>\n",
       "      <td>0</td>\n",
       "      <td>0</td>\n",
       "      <td>0</td>\n",
       "      <td>6</td>\n",
       "    </tr>\n",
       "    <tr>\n",
       "      <th>4</th>\n",
       "      <td>11</td>\n",
       "      <td>4</td>\n",
       "      <td>194540</td>\n",
       "      <td>229441</td>\n",
       "      <td>25</td>\n",
       "      <td>0.064649</td>\n",
       "      <td>7</td>\n",
       "      <td>0</td>\n",
       "      <td>5</td>\n",
       "      <td>0</td>\n",
       "      <td>...</td>\n",
       "      <td>0</td>\n",
       "      <td>0</td>\n",
       "      <td>0</td>\n",
       "      <td>0</td>\n",
       "      <td>0</td>\n",
       "      <td>0</td>\n",
       "      <td>NaN</td>\n",
       "      <td>5</td>\n",
       "      <td>0</td>\n",
       "      <td>8</td>\n",
       "    </tr>\n",
       "  </tbody>\n",
       "</table>\n",
       "<p>5 rows × 21 columns</p>\n",
       "</div>"
      ],
      "text/plain": [
       "   subject_id  topic  hadm_id  icustay_id  sapsii  sapsii_prob  age_score  \\\n",
       "0           3      0   145834      211552      73     0.870860         16   \n",
       "1           4      1   185777      294638      35     0.166523          7   \n",
       "2           6      2   107064      228232      24     0.058153         12   \n",
       "3           9      3   150750      220597      22     0.046739          7   \n",
       "4          11      4   194540      229441      25     0.064649          7   \n",
       "\n",
       "   hr_score  sysbp_score  temp_score         ...           uo_score  \\\n",
       "0         7           13           0         ...                 11   \n",
       "1         0            5           0         ...                  0   \n",
       "2         0            0           0         ...                  0   \n",
       "3         0            2           0         ...                  4   \n",
       "4         0            5           0         ...                  0   \n",
       "\n",
       "   bun_score  wbc_score  potassium_score  sodium_score  bicarbonate_score  \\\n",
       "0          6          3                3             1                  5   \n",
       "1          0          0                0             0                  0   \n",
       "2          6          0                3             0                  3   \n",
       "3          0          0                3             0                  0   \n",
       "4          0          0                0             0                  0   \n",
       "\n",
       "   bilirubin_score  gcs_score  comorbidity_score  admissiontype_score  \n",
       "0                0          0                  0                    8  \n",
       "1                0          0                 17                    6  \n",
       "2                0          0                  0                    0  \n",
       "3                0          0                  0                    6  \n",
       "4              NaN          5                  0                    8  \n",
       "\n",
       "[5 rows x 21 columns]"
      ]
     },
     "execution_count": 15,
     "metadata": {},
     "output_type": "execute_result"
    }
   ],
   "source": [
    "table_sapii=pd.read_csv('E:/A+GTCLASS/CSE8803/paper/code/data/saspii_edit.csv')#sapii table\n",
    "table_sapii['subject_id']=table_sapii['subject_id'].astype(int)\n",
    "df_topic_merge=df_topic.merge(table_sapii,on=['subject_id'],how='inner')\n",
    "df_topic_merge.head()"
   ]
  },
  {
   "cell_type": "code",
   "execution_count": 51,
   "metadata": {
    "collapsed": false
   },
   "outputs": [
    {
     "data": {
      "text/html": [
       "<div>\n",
       "<table border=\"1\" class=\"dataframe\">\n",
       "  <thead>\n",
       "    <tr style=\"text-align: right;\">\n",
       "      <th></th>\n",
       "      <th>subject_id</th>\n",
       "      <th>topic</th>\n",
       "      <th>hadm_id</th>\n",
       "      <th>icustay_id</th>\n",
       "      <th>sapsii</th>\n",
       "      <th>sapsii_prob</th>\n",
       "      <th>age_score</th>\n",
       "      <th>hr_score</th>\n",
       "      <th>sysbp_score</th>\n",
       "      <th>temp_score</th>\n",
       "      <th>...</th>\n",
       "      <th>comorbidity_score</th>\n",
       "      <th>admissiontype_score</th>\n",
       "      <th>row_id</th>\n",
       "      <th>gender</th>\n",
       "      <th>dob</th>\n",
       "      <th>dod</th>\n",
       "      <th>dod_hosp</th>\n",
       "      <th>dod_ssn</th>\n",
       "      <th>expire_flag</th>\n",
       "      <th>dead_in_hospital</th>\n",
       "    </tr>\n",
       "  </thead>\n",
       "  <tbody>\n",
       "    <tr>\n",
       "      <th>0</th>\n",
       "      <td>3</td>\n",
       "      <td>0</td>\n",
       "      <td>145834</td>\n",
       "      <td>211552</td>\n",
       "      <td>73</td>\n",
       "      <td>0.870860</td>\n",
       "      <td>16</td>\n",
       "      <td>7</td>\n",
       "      <td>13</td>\n",
       "      <td>0</td>\n",
       "      <td>...</td>\n",
       "      <td>0</td>\n",
       "      <td>8</td>\n",
       "      <td>2</td>\n",
       "      <td>1</td>\n",
       "      <td>2025-04-11 00:00:00</td>\n",
       "      <td>2102-06-14 00:00:00</td>\n",
       "      <td>NaN</td>\n",
       "      <td>2102-06-14 00:00:00</td>\n",
       "      <td>1</td>\n",
       "      <td>0</td>\n",
       "    </tr>\n",
       "    <tr>\n",
       "      <th>1</th>\n",
       "      <td>4</td>\n",
       "      <td>1</td>\n",
       "      <td>185777</td>\n",
       "      <td>294638</td>\n",
       "      <td>35</td>\n",
       "      <td>0.166523</td>\n",
       "      <td>7</td>\n",
       "      <td>0</td>\n",
       "      <td>5</td>\n",
       "      <td>0</td>\n",
       "      <td>...</td>\n",
       "      <td>17</td>\n",
       "      <td>6</td>\n",
       "      <td>3</td>\n",
       "      <td>0</td>\n",
       "      <td>2143-05-12 00:00:00</td>\n",
       "      <td>NaN</td>\n",
       "      <td>NaN</td>\n",
       "      <td>NaN</td>\n",
       "      <td>0</td>\n",
       "      <td>0</td>\n",
       "    </tr>\n",
       "    <tr>\n",
       "      <th>2</th>\n",
       "      <td>6</td>\n",
       "      <td>2</td>\n",
       "      <td>107064</td>\n",
       "      <td>228232</td>\n",
       "      <td>24</td>\n",
       "      <td>0.058153</td>\n",
       "      <td>12</td>\n",
       "      <td>0</td>\n",
       "      <td>0</td>\n",
       "      <td>0</td>\n",
       "      <td>...</td>\n",
       "      <td>0</td>\n",
       "      <td>0</td>\n",
       "      <td>5</td>\n",
       "      <td>0</td>\n",
       "      <td>2109-06-21 00:00:00</td>\n",
       "      <td>NaN</td>\n",
       "      <td>NaN</td>\n",
       "      <td>NaN</td>\n",
       "      <td>0</td>\n",
       "      <td>0</td>\n",
       "    </tr>\n",
       "    <tr>\n",
       "      <th>3</th>\n",
       "      <td>9</td>\n",
       "      <td>3</td>\n",
       "      <td>150750</td>\n",
       "      <td>220597</td>\n",
       "      <td>22</td>\n",
       "      <td>0.046739</td>\n",
       "      <td>7</td>\n",
       "      <td>0</td>\n",
       "      <td>2</td>\n",
       "      <td>0</td>\n",
       "      <td>...</td>\n",
       "      <td>0</td>\n",
       "      <td>6</td>\n",
       "      <td>8</td>\n",
       "      <td>1</td>\n",
       "      <td>2108-01-26 00:00:00</td>\n",
       "      <td>2149-11-14 00:00:00</td>\n",
       "      <td>2149-11-14 00:00:00</td>\n",
       "      <td>2149-11-14 00:00:00</td>\n",
       "      <td>1</td>\n",
       "      <td>1</td>\n",
       "    </tr>\n",
       "    <tr>\n",
       "      <th>4</th>\n",
       "      <td>11</td>\n",
       "      <td>4</td>\n",
       "      <td>194540</td>\n",
       "      <td>229441</td>\n",
       "      <td>25</td>\n",
       "      <td>0.064649</td>\n",
       "      <td>7</td>\n",
       "      <td>0</td>\n",
       "      <td>5</td>\n",
       "      <td>0</td>\n",
       "      <td>...</td>\n",
       "      <td>0</td>\n",
       "      <td>8</td>\n",
       "      <td>10</td>\n",
       "      <td>0</td>\n",
       "      <td>2128-02-22 00:00:00</td>\n",
       "      <td>2178-11-14 00:00:00</td>\n",
       "      <td>NaN</td>\n",
       "      <td>2178-11-14 00:00:00</td>\n",
       "      <td>1</td>\n",
       "      <td>0</td>\n",
       "    </tr>\n",
       "  </tbody>\n",
       "</table>\n",
       "<p>5 rows × 29 columns</p>\n",
       "</div>"
      ],
      "text/plain": [
       "   subject_id  topic  hadm_id  icustay_id  sapsii  sapsii_prob  age_score  \\\n",
       "0           3      0   145834      211552      73     0.870860         16   \n",
       "1           4      1   185777      294638      35     0.166523          7   \n",
       "2           6      2   107064      228232      24     0.058153         12   \n",
       "3           9      3   150750      220597      22     0.046739          7   \n",
       "4          11      4   194540      229441      25     0.064649          7   \n",
       "\n",
       "   hr_score  sysbp_score  temp_score        ...         comorbidity_score  \\\n",
       "0         7           13           0        ...                         0   \n",
       "1         0            5           0        ...                        17   \n",
       "2         0            0           0        ...                         0   \n",
       "3         0            2           0        ...                         0   \n",
       "4         0            5           0        ...                         0   \n",
       "\n",
       "   admissiontype_score  row_id  gender                  dob  \\\n",
       "0                    8       2       1  2025-04-11 00:00:00   \n",
       "1                    6       3       0  2143-05-12 00:00:00   \n",
       "2                    0       5       0  2109-06-21 00:00:00   \n",
       "3                    6       8       1  2108-01-26 00:00:00   \n",
       "4                    8      10       0  2128-02-22 00:00:00   \n",
       "\n",
       "                   dod             dod_hosp              dod_ssn  expire_flag  \\\n",
       "0  2102-06-14 00:00:00                  NaN  2102-06-14 00:00:00            1   \n",
       "1                  NaN                  NaN                  NaN            0   \n",
       "2                  NaN                  NaN                  NaN            0   \n",
       "3  2149-11-14 00:00:00  2149-11-14 00:00:00  2149-11-14 00:00:00            1   \n",
       "4  2178-11-14 00:00:00                  NaN  2178-11-14 00:00:00            1   \n",
       "\n",
       "   dead_in_hospital  \n",
       "0                 0  \n",
       "1                 0  \n",
       "2                 0  \n",
       "3                 1  \n",
       "4                 0  \n",
       "\n",
       "[5 rows x 29 columns]"
      ]
     },
     "execution_count": 51,
     "metadata": {},
     "output_type": "execute_result"
    }
   ],
   "source": [
    "df_all=df_topic_merge.merge(df_heart,on=['subject_id'],how='inner')\n",
    "df_all.head()"
   ]
  },
  {
   "cell_type": "code",
   "execution_count": 112,
   "metadata": {
    "collapsed": false
   },
   "outputs": [
    {
     "data": {
      "text/html": [
       "<div>\n",
       "<table border=\"1\" class=\"dataframe\">\n",
       "  <thead>\n",
       "    <tr style=\"text-align: right;\">\n",
       "      <th></th>\n",
       "      <th>subject_id</th>\n",
       "      <th>count</th>\n",
       "    </tr>\n",
       "  </thead>\n",
       "  <tbody>\n",
       "    <tr>\n",
       "      <th>0</th>\n",
       "      <td>10295</td>\n",
       "      <td>1</td>\n",
       "    </tr>\n",
       "    <tr>\n",
       "      <th>1</th>\n",
       "      <td>11890</td>\n",
       "      <td>1</td>\n",
       "    </tr>\n",
       "    <tr>\n",
       "      <th>2</th>\n",
       "      <td>22262</td>\n",
       "      <td>1</td>\n",
       "    </tr>\n",
       "    <tr>\n",
       "      <th>3</th>\n",
       "      <td>6122</td>\n",
       "      <td>1</td>\n",
       "    </tr>\n",
       "    <tr>\n",
       "      <th>4</th>\n",
       "      <td>65130</td>\n",
       "      <td>1</td>\n",
       "    </tr>\n",
       "  </tbody>\n",
       "</table>\n",
       "</div>"
      ],
      "text/plain": [
       "   subject_id  count\n",
       "0       10295      1\n",
       "1       11890      1\n",
       "2       22262      1\n",
       "3        6122      1\n",
       "4       65130      1"
      ]
     },
     "execution_count": 112,
     "metadata": {},
     "output_type": "execute_result"
    }
   ],
   "source": [
    "df_count_admin=pd.read_csv('E:/A+GTCLASS/CSE8803/paper/code/data/count_admin.csv')#new var\n",
    "df_count_admin['subject_id']=df_count_admin['subject_id'].astype(int)\n",
    "df_count_admin.head()"
   ]
  },
  {
   "cell_type": "code",
   "execution_count": 113,
   "metadata": {
    "collapsed": false
   },
   "outputs": [
    {
     "data": {
      "text/html": [
       "<div>\n",
       "<table border=\"1\" class=\"dataframe\">\n",
       "  <thead>\n",
       "    <tr style=\"text-align: right;\">\n",
       "      <th></th>\n",
       "      <th>subject_id</th>\n",
       "      <th>avg</th>\n",
       "    </tr>\n",
       "  </thead>\n",
       "  <tbody>\n",
       "    <tr>\n",
       "      <th>0</th>\n",
       "      <td>2</td>\n",
       "      <td>0.0918</td>\n",
       "    </tr>\n",
       "    <tr>\n",
       "      <th>1</th>\n",
       "      <td>3</td>\n",
       "      <td>6.0646</td>\n",
       "    </tr>\n",
       "    <tr>\n",
       "      <th>2</th>\n",
       "      <td>4</td>\n",
       "      <td>1.6785</td>\n",
       "    </tr>\n",
       "    <tr>\n",
       "      <th>3</th>\n",
       "      <td>5</td>\n",
       "      <td>0.0844</td>\n",
       "    </tr>\n",
       "    <tr>\n",
       "      <th>4</th>\n",
       "      <td>6</td>\n",
       "      <td>3.6729</td>\n",
       "    </tr>\n",
       "  </tbody>\n",
       "</table>\n",
       "</div>"
      ],
      "text/plain": [
       "   subject_id     avg\n",
       "0           2  0.0918\n",
       "1           3  6.0646\n",
       "2           4  1.6785\n",
       "3           5  0.0844\n",
       "4           6  3.6729"
      ]
     },
     "execution_count": 113,
     "metadata": {},
     "output_type": "execute_result"
    }
   ],
   "source": [
    "df_count_admin_stay=pd.read_csv('E:/A+GTCLASS/CSE8803/paper/code/data/count_admin_stay.csv')#new var 2\n",
    "df_count_admin_stay['subject_id']=df_count_admin_stay['subject_id'].astype(int)\n",
    "df_count_admin_stay.head()"
   ]
  },
  {
   "cell_type": "code",
   "execution_count": 114,
   "metadata": {
    "collapsed": false
   },
   "outputs": [
    {
     "data": {
      "text/html": [
       "<div>\n",
       "<table border=\"1\" class=\"dataframe\">\n",
       "  <thead>\n",
       "    <tr style=\"text-align: right;\">\n",
       "      <th></th>\n",
       "      <th>subject_id</th>\n",
       "      <th>topic</th>\n",
       "      <th>hadm_id</th>\n",
       "      <th>icustay_id</th>\n",
       "      <th>sapsii</th>\n",
       "      <th>sapsii_prob</th>\n",
       "      <th>age_score</th>\n",
       "      <th>hr_score</th>\n",
       "      <th>sysbp_score</th>\n",
       "      <th>temp_score</th>\n",
       "      <th>...</th>\n",
       "      <th>row_id</th>\n",
       "      <th>gender</th>\n",
       "      <th>dob</th>\n",
       "      <th>dod</th>\n",
       "      <th>dod_hosp</th>\n",
       "      <th>dod_ssn</th>\n",
       "      <th>expire_flag</th>\n",
       "      <th>dead_in_hospital</th>\n",
       "      <th>count</th>\n",
       "      <th>avg</th>\n",
       "    </tr>\n",
       "  </thead>\n",
       "  <tbody>\n",
       "    <tr>\n",
       "      <th>0</th>\n",
       "      <td>3</td>\n",
       "      <td>0</td>\n",
       "      <td>145834</td>\n",
       "      <td>211552</td>\n",
       "      <td>73</td>\n",
       "      <td>0.870860</td>\n",
       "      <td>16</td>\n",
       "      <td>7</td>\n",
       "      <td>13</td>\n",
       "      <td>0</td>\n",
       "      <td>...</td>\n",
       "      <td>2</td>\n",
       "      <td>1</td>\n",
       "      <td>2025-04-11 00:00:00</td>\n",
       "      <td>2102-06-14 00:00:00</td>\n",
       "      <td>NaN</td>\n",
       "      <td>2102-06-14 00:00:00</td>\n",
       "      <td>1</td>\n",
       "      <td>0</td>\n",
       "      <td>1</td>\n",
       "      <td>6.0646</td>\n",
       "    </tr>\n",
       "    <tr>\n",
       "      <th>1</th>\n",
       "      <td>4</td>\n",
       "      <td>1</td>\n",
       "      <td>185777</td>\n",
       "      <td>294638</td>\n",
       "      <td>35</td>\n",
       "      <td>0.166523</td>\n",
       "      <td>7</td>\n",
       "      <td>0</td>\n",
       "      <td>5</td>\n",
       "      <td>0</td>\n",
       "      <td>...</td>\n",
       "      <td>3</td>\n",
       "      <td>0</td>\n",
       "      <td>2143-05-12 00:00:00</td>\n",
       "      <td>NaN</td>\n",
       "      <td>NaN</td>\n",
       "      <td>NaN</td>\n",
       "      <td>0</td>\n",
       "      <td>0</td>\n",
       "      <td>1</td>\n",
       "      <td>1.6785</td>\n",
       "    </tr>\n",
       "    <tr>\n",
       "      <th>2</th>\n",
       "      <td>6</td>\n",
       "      <td>2</td>\n",
       "      <td>107064</td>\n",
       "      <td>228232</td>\n",
       "      <td>24</td>\n",
       "      <td>0.058153</td>\n",
       "      <td>12</td>\n",
       "      <td>0</td>\n",
       "      <td>0</td>\n",
       "      <td>0</td>\n",
       "      <td>...</td>\n",
       "      <td>5</td>\n",
       "      <td>0</td>\n",
       "      <td>2109-06-21 00:00:00</td>\n",
       "      <td>NaN</td>\n",
       "      <td>NaN</td>\n",
       "      <td>NaN</td>\n",
       "      <td>0</td>\n",
       "      <td>0</td>\n",
       "      <td>1</td>\n",
       "      <td>3.6729</td>\n",
       "    </tr>\n",
       "    <tr>\n",
       "      <th>3</th>\n",
       "      <td>9</td>\n",
       "      <td>3</td>\n",
       "      <td>150750</td>\n",
       "      <td>220597</td>\n",
       "      <td>22</td>\n",
       "      <td>0.046739</td>\n",
       "      <td>7</td>\n",
       "      <td>0</td>\n",
       "      <td>2</td>\n",
       "      <td>0</td>\n",
       "      <td>...</td>\n",
       "      <td>8</td>\n",
       "      <td>1</td>\n",
       "      <td>2108-01-26 00:00:00</td>\n",
       "      <td>2149-11-14 00:00:00</td>\n",
       "      <td>2149-11-14 00:00:00</td>\n",
       "      <td>2149-11-14 00:00:00</td>\n",
       "      <td>1</td>\n",
       "      <td>1</td>\n",
       "      <td>1</td>\n",
       "      <td>5.3231</td>\n",
       "    </tr>\n",
       "    <tr>\n",
       "      <th>4</th>\n",
       "      <td>11</td>\n",
       "      <td>4</td>\n",
       "      <td>194540</td>\n",
       "      <td>229441</td>\n",
       "      <td>25</td>\n",
       "      <td>0.064649</td>\n",
       "      <td>7</td>\n",
       "      <td>0</td>\n",
       "      <td>5</td>\n",
       "      <td>0</td>\n",
       "      <td>...</td>\n",
       "      <td>10</td>\n",
       "      <td>0</td>\n",
       "      <td>2128-02-22 00:00:00</td>\n",
       "      <td>2178-11-14 00:00:00</td>\n",
       "      <td>NaN</td>\n",
       "      <td>2178-11-14 00:00:00</td>\n",
       "      <td>1</td>\n",
       "      <td>0</td>\n",
       "      <td>1</td>\n",
       "      <td>1.5844</td>\n",
       "    </tr>\n",
       "  </tbody>\n",
       "</table>\n",
       "<p>5 rows × 31 columns</p>\n",
       "</div>"
      ],
      "text/plain": [
       "   subject_id  topic  hadm_id  icustay_id  sapsii  sapsii_prob  age_score  \\\n",
       "0           3      0   145834      211552      73     0.870860         16   \n",
       "1           4      1   185777      294638      35     0.166523          7   \n",
       "2           6      2   107064      228232      24     0.058153         12   \n",
       "3           9      3   150750      220597      22     0.046739          7   \n",
       "4          11      4   194540      229441      25     0.064649          7   \n",
       "\n",
       "   hr_score  sysbp_score  temp_score   ...    row_id  gender  \\\n",
       "0         7           13           0   ...         2       1   \n",
       "1         0            5           0   ...         3       0   \n",
       "2         0            0           0   ...         5       0   \n",
       "3         0            2           0   ...         8       1   \n",
       "4         0            5           0   ...        10       0   \n",
       "\n",
       "                   dob                  dod             dod_hosp  \\\n",
       "0  2025-04-11 00:00:00  2102-06-14 00:00:00                  NaN   \n",
       "1  2143-05-12 00:00:00                  NaN                  NaN   \n",
       "2  2109-06-21 00:00:00                  NaN                  NaN   \n",
       "3  2108-01-26 00:00:00  2149-11-14 00:00:00  2149-11-14 00:00:00   \n",
       "4  2128-02-22 00:00:00  2178-11-14 00:00:00                  NaN   \n",
       "\n",
       "               dod_ssn  expire_flag  dead_in_hospital  count     avg  \n",
       "0  2102-06-14 00:00:00            1                 0      1  6.0646  \n",
       "1                  NaN            0                 0      1  1.6785  \n",
       "2                  NaN            0                 0      1  3.6729  \n",
       "3  2149-11-14 00:00:00            1                 1      1  5.3231  \n",
       "4  2178-11-14 00:00:00            1                 0      1  1.5844  \n",
       "\n",
       "[5 rows x 31 columns]"
      ]
     },
     "execution_count": 114,
     "metadata": {},
     "output_type": "execute_result"
    }
   ],
   "source": [
    "df_all_new1=df_all.merge(df_count_admin,on=['subject_id'],how='inner')\n",
    "df_all_new2=df_all_new1.merge(df_count_admin_stay,on=['subject_id'],how='inner')\n",
    "df_all_new2.head()"
   ]
  },
  {
   "cell_type": "code",
   "execution_count": 135,
   "metadata": {
    "collapsed": false
   },
   "outputs": [
    {
     "data": {
      "text/html": [
       "<div>\n",
       "<table border=\"1\" class=\"dataframe\">\n",
       "  <thead>\n",
       "    <tr style=\"text-align: right;\">\n",
       "      <th></th>\n",
       "      <th>subject_id</th>\n",
       "      <th>sapsii</th>\n",
       "      <th>gender</th>\n",
       "      <th>age_score</th>\n",
       "      <th>sapsii_prob</th>\n",
       "      <th>hr_score</th>\n",
       "      <th>sysbp_score</th>\n",
       "      <th>temp_score</th>\n",
       "      <th>uo_score</th>\n",
       "      <th>bun_score</th>\n",
       "      <th>...</th>\n",
       "      <th>sodium_score</th>\n",
       "      <th>bicarbonate_score</th>\n",
       "      <th>gcs_score</th>\n",
       "      <th>comorbidity_score</th>\n",
       "      <th>admissiontype_score</th>\n",
       "      <th>dead_in_hospital</th>\n",
       "      <th>expire_flag</th>\n",
       "      <th>count</th>\n",
       "      <th>avg</th>\n",
       "      <th>topic</th>\n",
       "    </tr>\n",
       "  </thead>\n",
       "  <tbody>\n",
       "    <tr>\n",
       "      <th>0</th>\n",
       "      <td>3</td>\n",
       "      <td>73</td>\n",
       "      <td>1</td>\n",
       "      <td>16</td>\n",
       "      <td>0.870860</td>\n",
       "      <td>7</td>\n",
       "      <td>13</td>\n",
       "      <td>0</td>\n",
       "      <td>11</td>\n",
       "      <td>6</td>\n",
       "      <td>...</td>\n",
       "      <td>1</td>\n",
       "      <td>5</td>\n",
       "      <td>0</td>\n",
       "      <td>0</td>\n",
       "      <td>8</td>\n",
       "      <td>0</td>\n",
       "      <td>1</td>\n",
       "      <td>1</td>\n",
       "      <td>6.0646</td>\n",
       "      <td>0</td>\n",
       "    </tr>\n",
       "    <tr>\n",
       "      <th>1</th>\n",
       "      <td>4</td>\n",
       "      <td>35</td>\n",
       "      <td>0</td>\n",
       "      <td>7</td>\n",
       "      <td>0.166523</td>\n",
       "      <td>0</td>\n",
       "      <td>5</td>\n",
       "      <td>0</td>\n",
       "      <td>0</td>\n",
       "      <td>0</td>\n",
       "      <td>...</td>\n",
       "      <td>0</td>\n",
       "      <td>0</td>\n",
       "      <td>0</td>\n",
       "      <td>17</td>\n",
       "      <td>6</td>\n",
       "      <td>0</td>\n",
       "      <td>0</td>\n",
       "      <td>1</td>\n",
       "      <td>1.6785</td>\n",
       "      <td>1</td>\n",
       "    </tr>\n",
       "    <tr>\n",
       "      <th>2</th>\n",
       "      <td>6</td>\n",
       "      <td>24</td>\n",
       "      <td>0</td>\n",
       "      <td>12</td>\n",
       "      <td>0.058153</td>\n",
       "      <td>0</td>\n",
       "      <td>0</td>\n",
       "      <td>0</td>\n",
       "      <td>0</td>\n",
       "      <td>6</td>\n",
       "      <td>...</td>\n",
       "      <td>0</td>\n",
       "      <td>3</td>\n",
       "      <td>0</td>\n",
       "      <td>0</td>\n",
       "      <td>0</td>\n",
       "      <td>0</td>\n",
       "      <td>0</td>\n",
       "      <td>1</td>\n",
       "      <td>3.6729</td>\n",
       "      <td>2</td>\n",
       "    </tr>\n",
       "    <tr>\n",
       "      <th>3</th>\n",
       "      <td>9</td>\n",
       "      <td>22</td>\n",
       "      <td>1</td>\n",
       "      <td>7</td>\n",
       "      <td>0.046739</td>\n",
       "      <td>0</td>\n",
       "      <td>2</td>\n",
       "      <td>0</td>\n",
       "      <td>4</td>\n",
       "      <td>0</td>\n",
       "      <td>...</td>\n",
       "      <td>0</td>\n",
       "      <td>0</td>\n",
       "      <td>0</td>\n",
       "      <td>0</td>\n",
       "      <td>6</td>\n",
       "      <td>1</td>\n",
       "      <td>1</td>\n",
       "      <td>1</td>\n",
       "      <td>5.3231</td>\n",
       "      <td>3</td>\n",
       "    </tr>\n",
       "    <tr>\n",
       "      <th>4</th>\n",
       "      <td>11</td>\n",
       "      <td>25</td>\n",
       "      <td>0</td>\n",
       "      <td>7</td>\n",
       "      <td>0.064649</td>\n",
       "      <td>0</td>\n",
       "      <td>5</td>\n",
       "      <td>0</td>\n",
       "      <td>0</td>\n",
       "      <td>0</td>\n",
       "      <td>...</td>\n",
       "      <td>0</td>\n",
       "      <td>0</td>\n",
       "      <td>5</td>\n",
       "      <td>0</td>\n",
       "      <td>8</td>\n",
       "      <td>0</td>\n",
       "      <td>1</td>\n",
       "      <td>1</td>\n",
       "      <td>1.5844</td>\n",
       "      <td>4</td>\n",
       "    </tr>\n",
       "  </tbody>\n",
       "</table>\n",
       "<p>5 rows × 22 columns</p>\n",
       "</div>"
      ],
      "text/plain": [
       "   subject_id  sapsii  gender  age_score  sapsii_prob  hr_score  sysbp_score  \\\n",
       "0           3      73       1         16     0.870860         7           13   \n",
       "1           4      35       0          7     0.166523         0            5   \n",
       "2           6      24       0         12     0.058153         0            0   \n",
       "3           9      22       1          7     0.046739         0            2   \n",
       "4          11      25       0          7     0.064649         0            5   \n",
       "\n",
       "   temp_score  uo_score  bun_score  ...    sodium_score  bicarbonate_score  \\\n",
       "0           0        11          6  ...               1                  5   \n",
       "1           0         0          0  ...               0                  0   \n",
       "2           0         0          6  ...               0                  3   \n",
       "3           0         4          0  ...               0                  0   \n",
       "4           0         0          0  ...               0                  0   \n",
       "\n",
       "   gcs_score  comorbidity_score  admissiontype_score  dead_in_hospital  \\\n",
       "0          0                  0                    8                 0   \n",
       "1          0                 17                    6                 0   \n",
       "2          0                  0                    0                 0   \n",
       "3          0                  0                    6                 1   \n",
       "4          5                  0                    8                 0   \n",
       "\n",
       "   expire_flag  count     avg  topic  \n",
       "0            1      1  6.0646      0  \n",
       "1            0      1  1.6785      1  \n",
       "2            0      1  3.6729      2  \n",
       "3            1      1  5.3231      3  \n",
       "4            1      1  1.5844      4  \n",
       "\n",
       "[5 rows x 22 columns]"
      ]
     },
     "execution_count": 135,
     "metadata": {},
     "output_type": "execute_result"
    }
   ],
   "source": [
    "df_all_var=df_all_new2[['subject_id','sapsii','gender','age_score','sapsii_prob','hr_score','sysbp_score','temp_score','uo_score','bun_score'\\\n",
    "                   ,'wbc_score','potassium_score','sodium_score','bicarbonate_score','gcs_score','comorbidity_score'\\\n",
    "                   ,'admissiontype_score','dead_in_hospital','expire_flag','count','avg','topic']]\n",
    "df_all_var=df_all_var[pd.notnull(df_all_var).all(axis=1)]\n",
    "df_all_var.head()"
   ]
  },
  {
   "cell_type": "code",
   "execution_count": 131,
   "metadata": {
    "collapsed": true
   },
   "outputs": [],
   "source": [
    "df_all_var.to_csv('E:/A+GTCLASS/CSE8803/paper/code/data/scala/vartab1.csv',index=False)"
   ]
  },
  {
   "cell_type": "markdown",
   "metadata": {},
   "source": [
    "## Feature selection using Logistic Regression"
   ]
  },
  {
   "cell_type": "code",
   "execution_count": 150,
   "metadata": {
    "collapsed": false
   },
   "outputs": [
    {
     "name": "stdout",
     "output_type": "stream",
     "text": [
      "0.646849370216\n"
     ]
    }
   ],
   "source": [
    "from sklearn import linear_model\n",
    "auc=[]\n",
    "logit_cv = linear_model.LogisticRegressionCV(penalty='l1',solver='liblinear')\n",
    "k_fold = cross_validation.KFold(df_all_var.shape[0], n_folds=10,shuffle=True)\n",
    "for k, (train, test) in enumerate(k_fold):\n",
    "    training_set,testing_set=df_all_var.iloc[train],df_all_var.iloc[test]\n",
    "    training_x,training_y=training_set[['sapsii','gender','age_score','sapsii_prob','hr_score','sysbp_score','temp_score','uo_score','bun_score'\\\n",
    "                                        ,'wbc_score','potassium_score','sodium_score','bicarbonate_score','gcs_score','comorbidity_score'\\\n",
    "                                        ,'admissiontype_score','count','avg']].as_matrix(),training_set['dead_in_hospital'].as_matrix()\n",
    "    testing_x,testing_y=testing_set[['sapsii','gender','age_score','sapsii_prob','hr_score','sysbp_score','temp_score','uo_score','bun_score'\\\n",
    "                                     ,'wbc_score','potassium_score','sodium_score','bicarbonate_score','gcs_score','comorbidity_score'\\\n",
    "                                     ,'admissiontype_score','count','avg']].as_matrix(),testing_set['dead_in_hospital'].as_matrix()\n",
    "    logit_cv.fit(training_x,training_y)\n",
    "    pre=logit_cv.predict(testing_x)\n",
    "    auc_sco=metrics.roc_auc_score(testing_y,pre)\n",
    "    auc.append(auc_sco)\n",
    "print np.mean(auc)"
   ]
  },
  {
   "cell_type": "code",
   "execution_count": 151,
   "metadata": {
    "collapsed": false
   },
   "outputs": [
    {
     "data": {
      "text/plain": [
       "array([[ 0.09732408, -0.00685468,  0.00040138,  0.        , -0.00888086,\n",
       "        -0.03778693,  0.        , -0.00180157,  0.        , -0.02881327,\n",
       "        -0.1441185 ,  0.04073252, -0.00508467, -0.06754402,  0.07468299,\n",
       "        -0.02949608,  0.11773316,  0.02697445]])"
      ]
     },
     "execution_count": 151,
     "metadata": {},
     "output_type": "execute_result"
    }
   ],
   "source": [
    "logit_cv.coef_"
   ]
  },
  {
   "cell_type": "code",
   "execution_count": 86,
   "metadata": {
    "collapsed": false
   },
   "outputs": [
    {
     "data": {
      "image/png": "[encoded data removed]",
      "text/plain": [
       "<matplotlib.figure.Figure at 0x3927470>"
      ]
     },
     "metadata": {},
     "output_type": "display_data"
    }
   ],
   "source": [
    "plot_roc(testing_y,pre)"
   ]
  },
  {
   "cell_type": "code",
   "execution_count": 152,
   "metadata": {
    "collapsed": false
   },
   "outputs": [
    {
     "name": "stdout",
     "output_type": "stream",
     "text": [
      "0.717152114422\n"
     ]
    }
   ],
   "source": [
    "auc=[]\n",
    "logit_cv = linear_model.LogisticRegressionCV(penalty='l1',solver='liblinear')\n",
    "k_fold = cross_validation.KFold(df_all_var.shape[0], n_folds=10,shuffle=True)\n",
    "for k, (train, test) in enumerate(k_fold):\n",
    "    training_set,testing_set=df_all_var.iloc[train],df_all_var.iloc[test]\n",
    "    training_x,training_y=training_set[['sapsii','gender','age_score','sapsii_prob','hr_score','sysbp_score','temp_score','uo_score','bun_score'\\\n",
    "                                        ,'wbc_score','potassium_score','sodium_score','bicarbonate_score','gcs_score','comorbidity_score'\\\n",
    "                                        ,'admissiontype_score','count','avg']].as_matrix(),training_set['expire_flag'].as_matrix()\n",
    "    testing_x,testing_y=testing_set[['sapsii','gender','age_score','sapsii_prob','hr_score','sysbp_score','temp_score','uo_score','bun_score'\\\n",
    "                                     ,'wbc_score','potassium_score','sodium_score','bicarbonate_score','gcs_score','comorbidity_score'\\\n",
    "                                     ,'admissiontype_score','count','avg']].as_matrix(),testing_set['expire_flag'].as_matrix()\n",
    "    logit_cv.fit(training_x,training_y)\n",
    "    pre=logit_cv.predict(testing_x)\n",
    "    auc_sco=metrics.roc_auc_score(testing_y,pre)\n",
    "    auc.append(auc_sco)\n",
    "print np.mean(auc)"
   ]
  },
  {
   "cell_type": "code",
   "execution_count": 153,
   "metadata": {
    "collapsed": false
   },
   "outputs": [
    {
     "data": {
      "text/plain": [
       "array([[ 0.11614363, -0.00703506,  0.04072813, -0.91116873, -0.04536708,\n",
       "        -0.07114205,  0.21039173, -0.01429964,  0.00224839, -0.05048048,\n",
       "        -0.13626687,  0.04073057, -0.0521328 , -0.07403218,  0.06679548,\n",
       "        -0.02484105,  0.08764352,  0.05060599]])"
      ]
     },
     "execution_count": 153,
     "metadata": {},
     "output_type": "execute_result"
    }
   ],
   "source": [
    "logit_cv.coef_"
   ]
  },
  {
   "cell_type": "code",
   "execution_count": 89,
   "metadata": {
    "collapsed": false
   },
   "outputs": [
    {
     "data": {
      "image/png": "[encoded data removed]",
      "text/plain": [
       "<matplotlib.figure.Figure at 0x5f44b400>"
      ]
     },
     "metadata": {},
     "output_type": "display_data"
    }
   ],
   "source": [
    "plot_roc(testing_y,pre)"
   ]
  },
  {
   "cell_type": "code",
   "execution_count": 54,
   "metadata": {
    "collapsed": false
   },
   "outputs": [
    {
     "data": {
      "text/html": [
       "<div>\n",
       "<table border=\"1\" class=\"dataframe\">\n",
       "  <thead>\n",
       "    <tr style=\"text-align: right;\">\n",
       "      <th></th>\n",
       "      <th>subject_id</th>\n",
       "      <th>topic</th>\n",
       "      <th>sapsii</th>\n",
       "      <th>gender</th>\n",
       "      <th>age_score</th>\n",
       "      <th>expire_flag</th>\n",
       "      <th>dead_in_hospital</th>\n",
       "    </tr>\n",
       "  </thead>\n",
       "  <tbody>\n",
       "    <tr>\n",
       "      <th>0</th>\n",
       "      <td>3</td>\n",
       "      <td>0</td>\n",
       "      <td>73</td>\n",
       "      <td>1</td>\n",
       "      <td>16</td>\n",
       "      <td>1</td>\n",
       "      <td>0</td>\n",
       "    </tr>\n",
       "    <tr>\n",
       "      <th>1</th>\n",
       "      <td>4</td>\n",
       "      <td>1</td>\n",
       "      <td>35</td>\n",
       "      <td>0</td>\n",
       "      <td>7</td>\n",
       "      <td>0</td>\n",
       "      <td>0</td>\n",
       "    </tr>\n",
       "    <tr>\n",
       "      <th>2</th>\n",
       "      <td>6</td>\n",
       "      <td>2</td>\n",
       "      <td>24</td>\n",
       "      <td>0</td>\n",
       "      <td>12</td>\n",
       "      <td>0</td>\n",
       "      <td>0</td>\n",
       "    </tr>\n",
       "    <tr>\n",
       "      <th>3</th>\n",
       "      <td>9</td>\n",
       "      <td>3</td>\n",
       "      <td>22</td>\n",
       "      <td>1</td>\n",
       "      <td>7</td>\n",
       "      <td>1</td>\n",
       "      <td>1</td>\n",
       "    </tr>\n",
       "    <tr>\n",
       "      <th>4</th>\n",
       "      <td>11</td>\n",
       "      <td>4</td>\n",
       "      <td>25</td>\n",
       "      <td>0</td>\n",
       "      <td>7</td>\n",
       "      <td>1</td>\n",
       "      <td>0</td>\n",
       "    </tr>\n",
       "  </tbody>\n",
       "</table>\n",
       "</div>"
      ],
      "text/plain": [
       "   subject_id  topic  sapsii  gender  age_score  expire_flag  dead_in_hospital\n",
       "0           3      0      73       1         16            1                 0\n",
       "1           4      1      35       0          7            0                 0\n",
       "2           6      2      24       0         12            0                 0\n",
       "3           9      3      22       1          7            1                 1\n",
       "4          11      4      25       0          7            1                 0"
      ]
     },
     "execution_count": 54,
     "metadata": {},
     "output_type": "execute_result"
    }
   ],
   "source": [
    "df_all_real=df_all[['subject_id','topic','sapsii','gender','age_score','expire_flag','dead_in_hospital']]\n",
    "df_all_real.head()"
   ]
  },
  {
   "cell_type": "markdown",
   "metadata": {},
   "source": [
    "## NMF topic modeling used"
   ]
  },
  {
   "cell_type": "code",
   "execution_count": 148,
   "metadata": {
    "collapsed": false
   },
   "outputs": [
    {
     "name": "stdout",
     "output_type": "stream",
     "text": [
      "0.747066578846 0.725449072344 0.739059996165\n"
     ]
    }
   ],
   "source": [
    "from sklearn.ensemble import RandomForestClassifier \n",
    "from sklearn.ensemble import GradientBoostingClassifier\n",
    "\n",
    "auc,auc1,auc2=[],[],[]\n",
    "kf = KFold(df_all_var.shape[0], n_folds=10,shuffle=True)\n",
    "for train, test in kf:\n",
    "    training_set,testing_set=df_all_var.iloc[train],df_all_var.iloc[test]\n",
    "    training_x,training_y=np.hstack((np.array(nmf_topic_vec[list(training_set['topic']),]),training_set[['sapsii','gender','age_score','sapsii_prob','hr_score','sysbp_score','temp_score','uo_score','bun_score'\\\n",
    "                                        ,'wbc_score','potassium_score','sodium_score','bicarbonate_score','gcs_score','comorbidity_score'\\\n",
    "                                        ,'admissiontype_score']].as_matrix())),training_set['expire_flag'].as_matrix()\n",
    "    testing_x,testing_y=np.hstack((np.array(nmf_topic_vec[list(testing_set['topic']),]),testing_set[['sapsii','gender','age_score','sapsii_prob','hr_score','sysbp_score','temp_score','uo_score','bun_score'\\\n",
    "                                        ,'wbc_score','potassium_score','sodium_score','bicarbonate_score','gcs_score','comorbidity_score'\\\n",
    "                                        ,'admissiontype_score']].as_matrix())),testing_set['expire_flag'].as_matrix()\n",
    "    clf = svm.SVC(C=1,gamma=0.1)\n",
    "    clf.fit(training_x,training_y)\n",
    "    pre = clf.predict(testing_x)\n",
    "    clf1=GradientBoostingClassifier(n_estimators=10)\n",
    "    clf1.fit(training_x,training_y)\n",
    "    pre1 = clf1.predict(testing_x)\n",
    "    clf2=RandomForestClassifier(max_depth=30, n_estimators=10)\n",
    "    clf2.fit(training_x,training_y)\n",
    "    pre2 = clf2.predict(testing_x)\n",
    "    auc_sco=metrics.roc_auc_score(testing_y,pre)\n",
    "    auc_sco1=metrics.roc_auc_score(testing_y,pre1)\n",
    "    auc_sco2=metrics.roc_auc_score(testing_y,pre2)\n",
    "    auc.append(auc_sco)\n",
    "    auc1.append(auc_sco1)\n",
    "    auc2.append(auc_sco2)\n",
    "print np.mean(auc),np.mean(auc1),np.mean(auc2)"
   ]
  },
  {
   "cell_type": "code",
   "execution_count": 149,
   "metadata": {
    "collapsed": false
   },
   "outputs": [
    {
     "data": {
      "image/png": "[encoded data removed]",
      "text/plain": [
       "<matplotlib.figure.Figure at 0x5f42c898>"
      ]
     },
     "metadata": {},
     "output_type": "display_data"
    }
   ],
   "source": [
    "plt.subplot(311)\n",
    "fpr, tpr, _ = metrics.roc_curve(testing_y,pre)\n",
    "roc_auc = metrics.auc(fpr, tpr)\n",
    "plt.plot(fpr, tpr, label='ROC curve (area = %0.2f)' % roc_auc)\n",
    "plt.plot([0, 1], [0, 1], 'k--')\n",
    "plt.xlim([0.0, 1.0])\n",
    "plt.ylim([0.0, 1.05])\n",
    "plt.title('Receiver operating characteristic')\n",
    "plt.legend(loc=\"lower right\")\n",
    "plt.subplot(312)\n",
    "fpr, tpr, _ = metrics.roc_curve(testing_y,pre1)\n",
    "roc_auc = metrics.auc(fpr, tpr)\n",
    "plt.plot(fpr, tpr, label='ROC curve (area = %0.2f)' % roc_auc)\n",
    "plt.plot([0, 1], [0, 1], 'k--')\n",
    "plt.xlim([0.0, 1.0])\n",
    "plt.ylim([0.0, 1.05])\n",
    "plt.legend(loc=\"lower right\")\n",
    "plt.subplot(313)\n",
    "fpr, tpr, _ = metrics.roc_curve(testing_y,pre2)\n",
    "roc_auc = metrics.auc(fpr, tpr)\n",
    "plt.plot(fpr, tpr, label='ROC curve (area = %0.2f)' % roc_auc)\n",
    "plt.plot([0, 1], [0, 1], 'k--')\n",
    "plt.xlim([0.0, 1.0])\n",
    "plt.ylim([0.0, 1.05])\n",
    "plt.legend(loc=\"lower right\")\n",
    "plt.show()"
   ]
  },
  {
   "cell_type": "code",
   "execution_count": 146,
   "metadata": {
    "collapsed": false
   },
   "outputs": [
    {
     "name": "stdout",
     "output_type": "stream",
     "text": [
      "0.528170409021 0.57475093545 0.666322233965\n"
     ]
    }
   ],
   "source": [
    "auc,auc1,auc2=[],[],[]\n",
    "for train, test in kf:\n",
    "    training_set,testing_set=df_all_var.iloc[train],df_all_var.iloc[test]\n",
    "    training_x,training_y=np.hstack((np.array(nmf_topic_vec[list(training_set['topic']),]),training_set[['sapsii','gender','age_score','sapsii_prob','hr_score','sysbp_score','temp_score','uo_score','bun_score'\\\n",
    "                                        ,'wbc_score','potassium_score','sodium_score','bicarbonate_score','gcs_score','comorbidity_score'\\\n",
    "                                        ,'admissiontype_score']].as_matrix())),training_set['dead_in_hospital'].as_matrix()\n",
    "    testing_x,testing_y=np.hstack((np.array(nmf_topic_vec[list(testing_set['topic']),]),testing_set[['sapsii','gender','age_score','sapsii_prob','hr_score','sysbp_score','temp_score','uo_score','bun_score'\\\n",
    "                                        ,'wbc_score','potassium_score','sodium_score','bicarbonate_score','gcs_score','comorbidity_score'\\\n",
    "                                        ,'admissiontype_score']].as_matrix())),testing_set['dead_in_hospital'].as_matrix()\n",
    "    clf = svm.SVC(C=1,gamma=0.1)\n",
    "    clf.fit(training_x,training_y)\n",
    "    pre = clf.predict(testing_x)\n",
    "    clf1=GradientBoostingClassifier(n_estimators=10)\n",
    "    clf1.fit(training_x,training_y)\n",
    "    pre1 = clf1.predict(testing_x)\n",
    "    clf2=RandomForestClassifier(max_depth=30, n_estimators=10)\n",
    "    clf2.fit(training_x,training_y)\n",
    "    pre2 = clf2.predict(testing_x)\n",
    "    auc_sco=metrics.roc_auc_score(testing_y,pre)\n",
    "    auc_sco1=metrics.roc_auc_score(testing_y,pre1)\n",
    "    auc_sco2=metrics.roc_auc_score(testing_y,pre2)\n",
    "    auc.append(auc_sco)\n",
    "    auc1.append(auc_sco1)\n",
    "    auc2.append(auc_sco2)\n",
    "print np.mean(auc),np.mean(auc1),np.mean(auc2)"
   ]
  },
  {
   "cell_type": "code",
   "execution_count": 147,
   "metadata": {
    "collapsed": false
   },
   "outputs": [
    {
     "data": {
      "image/png": "[encoded data removed]",
      "text/plain": [
       "<matplotlib.figure.Figure at 0x42b27240>"
      ]
     },
     "metadata": {},
     "output_type": "display_data"
    }
   ],
   "source": [
    "plt.subplot(311)\n",
    "fpr, tpr, _ = metrics.roc_curve(testing_y,pre)\n",
    "roc_auc = metrics.auc(fpr, tpr)\n",
    "plt.plot(fpr, tpr, label='ROC curve (area = %0.2f)' % roc_auc)\n",
    "plt.plot([0, 1], [0, 1], 'k--')\n",
    "plt.xlim([0.0, 1.0])\n",
    "plt.ylim([0.0, 1.05])\n",
    "plt.title('Receiver operating characteristic')\n",
    "plt.legend(loc=\"lower right\")\n",
    "plt.subplot(312)\n",
    "fpr, tpr, _ = metrics.roc_curve(testing_y,pre1)\n",
    "roc_auc = metrics.auc(fpr, tpr)\n",
    "plt.plot(fpr, tpr, label='ROC curve (area = %0.2f)' % roc_auc)\n",
    "plt.plot([0, 1], [0, 1], 'k--')\n",
    "plt.xlim([0.0, 1.0])\n",
    "plt.ylim([0.0, 1.05])\n",
    "plt.legend(loc=\"lower right\")\n",
    "plt.subplot(313)\n",
    "fpr, tpr, _ = metrics.roc_curve(testing_y,pre2)\n",
    "roc_auc = metrics.auc(fpr, tpr)\n",
    "plt.plot(fpr, tpr, label='ROC curve (area = %0.2f)' % roc_auc)\n",
    "plt.plot([0, 1], [0, 1], 'k--')\n",
    "plt.xlim([0.0, 1.0])\n",
    "plt.ylim([0.0, 1.05])\n",
    "plt.legend(loc=\"lower right\")\n",
    "plt.show()"
   ]
  },
  {
   "cell_type": "code",
   "execution_count": 137,
   "metadata": {
    "collapsed": false
   },
   "outputs": [
    {
     "name": "stdout",
     "output_type": "stream",
     "text": [
      "0.579484938551 0.576595777644 0.65134073904\n"
     ]
    }
   ],
   "source": [
    "auc,auc1,auc2=[],[],[]\n",
    "kf = KFold(df_all_var.shape[0], n_folds=10,shuffle=True)\n",
    "for train, test in kf:\n",
    "    training_set,testing_set=df_all_var.iloc[train],df_all_var.iloc[test]\n",
    "    training_x,training_y=training_set[['sapsii','gender','age_score','sapsii_prob','hr_score','sysbp_score','temp_score','uo_score','bun_score'\\\n",
    "                                        ,'wbc_score','potassium_score','sodium_score','bicarbonate_score','gcs_score','comorbidity_score'\\\n",
    "                                        ,'admissiontype_score','count','avg']].as_matrix(),training_set['dead_in_hospital'].as_matrix()\n",
    "    testing_x,testing_y=testing_set[['sapsii','gender','age_score','sapsii_prob','hr_score','sysbp_score','temp_score','uo_score','bun_score'\\\n",
    "                                        ,'wbc_score','potassium_score','sodium_score','bicarbonate_score','gcs_score','comorbidity_score'\\\n",
    "                                        ,'admissiontype_score','count','avg']].as_matrix(),testing_set['dead_in_hospital'].as_matrix()\n",
    "    clf = svm.SVC(C=1,gamma=0.1)\n",
    "    clf.fit(training_x,training_y)\n",
    "    pre = clf.predict(testing_x)\n",
    "    clf1=GradientBoostingClassifier(n_estimators=10)\n",
    "    clf1.fit(training_x,training_y)\n",
    "    pre1 = clf1.predict(testing_x)\n",
    "    clf2=RandomForestClassifier(max_depth=30, n_estimators=10)\n",
    "    clf2.fit(training_x,training_y)\n",
    "    pre2 = clf2.predict(testing_x)\n",
    "    auc_sco=metrics.roc_auc_score(testing_y,pre)\n",
    "    auc_sco1=metrics.roc_auc_score(testing_y,pre1)\n",
    "    auc_sco2=metrics.roc_auc_score(testing_y,pre2)\n",
    "    auc.append(auc_sco)\n",
    "    auc1.append(auc_sco1)\n",
    "    auc2.append(auc_sco2)\n",
    "print np.mean(auc),np.mean(auc1),np.mean(auc2)"
   ]
  },
  {
   "cell_type": "code",
   "execution_count": 145,
   "metadata": {
    "collapsed": false
   },
   "outputs": [
    {
     "data": {
      "image/png": "[encoded data removed]",
      "text/plain": [
       "<matplotlib.figure.Figure at 0x4f765668>"
      ]
     },
     "metadata": {},
     "output_type": "display_data"
    }
   ],
   "source": [
    "import matplotlib.pyplot as plt\n",
    "plt.subplot(311)\n",
    "fpr, tpr, _ = metrics.roc_curve(testing_y,pre)\n",
    "roc_auc = metrics.auc(fpr, tpr)\n",
    "plt.plot(fpr, tpr, label='ROC curve (area = %0.2f)' % roc_auc)\n",
    "plt.plot([0, 1], [0, 1], 'k--')\n",
    "plt.xlim([0.0, 1.0])\n",
    "plt.ylim([0.0, 1.05])\n",
    "plt.title('Receiver operating characteristic')\n",
    "plt.legend(loc=\"lower right\")\n",
    "plt.subplot(312)\n",
    "fpr, tpr, _ = metrics.roc_curve(testing_y,pre1)\n",
    "roc_auc = metrics.auc(fpr, tpr)\n",
    "plt.plot(fpr, tpr, label='ROC curve (area = %0.2f)' % roc_auc)\n",
    "plt.plot([0, 1], [0, 1], 'k--')\n",
    "plt.xlim([0.0, 1.0])\n",
    "plt.ylim([0.0, 1.05])\n",
    "plt.legend(loc=\"lower right\")\n",
    "plt.subplot(313)\n",
    "fpr, tpr, _ = metrics.roc_curve(testing_y,pre2)\n",
    "roc_auc = metrics.auc(fpr, tpr)\n",
    "plt.plot(fpr, tpr, label='ROC curve (area = %0.2f)' % roc_auc)\n",
    "plt.plot([0, 1], [0, 1], 'k--')\n",
    "plt.xlim([0.0, 1.0])\n",
    "plt.ylim([0.0, 1.05])\n",
    "plt.legend(loc=\"lower right\")\n",
    "plt.show()"
   ]
  },
  {
   "cell_type": "markdown",
   "metadata": {},
   "source": [
    "## LDA topic features used"
   ]
  },
  {
   "cell_type": "code",
   "execution_count": 21,
   "metadata": {
    "collapsed": false
   },
   "outputs": [
    {
     "name": "stdout",
     "output_type": "stream",
     "text": [
      "0.727938517965 0.738943568489 0.713792435847 0.730180274163\n"
     ]
    }
   ],
   "source": [
    "auc,sco,auc1,auc2=[],[],[],[]\n",
    "kf = KFold(df_all_real.shape[0], n_folds=10,shuffle=True)\n",
    "for train, test in kf:\n",
    "    training_set,testing_set=df_all_real.iloc[train],df_all_real.iloc[test]\n",
    "    training_x,training_y=np.hstack((np.array(doc_topic[list(training_set['topic']),]),training_set[['sapsii','gender','age_score']]\\\n",
    "                                     .as_matrix())),training_set['expire_flag'].as_matrix()\n",
    "    testing_x,testing_y=np.hstack((np.array(doc_topic[list(testing_set['topic']),]),testing_set[['sapsii','gender','age_score']]\\\n",
    "                                   .as_matrix())),testing_set['expire_flag'].as_matrix()\n",
    "    clf = svm.SVC(C=1,gamma=0.1)\n",
    "    clf.fit(training_x,training_y)\n",
    "    pre = clf.predict(testing_x)\n",
    "    clf1=GradientBoostingClassifier(n_estimators=10)\n",
    "    clf1.fit(training_x,training_y)\n",
    "    pre1 = clf1.predict(testing_x)\n",
    "    clf2=RandomForestClassifier(max_depth=30, n_estimators=10)\n",
    "    clf2.fit(training_x,training_y)\n",
    "    pre2 = clf2.predict(testing_x)\n",
    "    score=clf.score(testing_x,testing_y)\n",
    "    sco.append(score)\n",
    "    auc_sco=metrics.roc_auc_score(testing_y,pre)\n",
    "    auc_sco1=metrics.roc_auc_score(testing_y,pre1)\n",
    "    auc_sco2=metrics.roc_auc_score(testing_y,pre2)\n",
    "    auc.append(auc_sco)\n",
    "    auc1.append(auc_sco1)\n",
    "    auc2.append(auc_sco2)\n",
    "print np.mean(auc),np.mean(sco),np.mean(auc1),np.mean(auc2)"
   ]
  },
  {
   "cell_type": "code",
   "execution_count": 91,
   "metadata": {
    "collapsed": false
   },
   "outputs": [
    {
     "data": {
      "image/png": "[encoded data removed]",
      "text/plain": [
       "<matplotlib.figure.Figure at 0x79720518>"
      ]
     },
     "metadata": {},
     "output_type": "display_data"
    }
   ],
   "source": [
    "plot_roc(testing_y,pre)"
   ]
  },
  {
   "cell_type": "code",
   "execution_count": 23,
   "metadata": {
    "collapsed": false
   },
   "outputs": [
    {
     "data": {
      "image/png": "[encoded data removed]",
      "text/plain": [
       "<matplotlib.figure.Figure at 0x461846d8>"
      ]
     },
     "metadata": {},
     "output_type": "display_data"
    }
   ],
   "source": [
    "%matplotlib inline\n",
    "plot_roc(testing_y,pre1)"
   ]
  },
  {
   "cell_type": "code",
   "execution_count": 24,
   "metadata": {
    "collapsed": false
   },
   "outputs": [
    {
     "data": {
      "image/png": "[encoded data removed]",
      "text/plain": [
       "<matplotlib.figure.Figure at 0x461847f0>"
      ]
     },
     "metadata": {},
     "output_type": "display_data"
    }
   ],
   "source": [
    "plot_roc(testing_y,pre2)"
   ]
  },
  {
   "cell_type": "code",
   "execution_count": 92,
   "metadata": {
    "collapsed": false
   },
   "outputs": [
    {
     "name": "stdout",
     "output_type": "stream",
     "text": [
      "0.717554120074 0.716133362513 0.734233117334\n"
     ]
    }
   ],
   "source": [
    "auc,auc1,auc2=[],[],[]\n",
    "kf = KFold(df_all_var.shape[0], n_folds=10,shuffle=True)\n",
    "for train, test in kf:\n",
    "    training_set,testing_set=df_all_var.iloc[train],df_all_var.iloc[test]\n",
    "    training_x,training_y=np.hstack((np.array(doc_topic[list(training_set['topic']),]),training_set[['sapsii','gender','age_score','sapsii_prob','hr_score','sysbp_score','temp_score','uo_score','bun_score'\\\n",
    "                                        ,'wbc_score','potassium_score','sodium_score','bicarbonate_score','gcs_score','comorbidity_score'\\\n",
    "                                        ,'admissiontype_score']].as_matrix())),training_set['expire_flag'].as_matrix()\n",
    "    testing_x,testing_y=np.hstack((np.array(doc_topic[list(testing_set['topic']),]),testing_set[['sapsii','gender','age_score','sapsii_prob','hr_score','sysbp_score','temp_score','uo_score','bun_score'\\\n",
    "                                        ,'wbc_score','potassium_score','sodium_score','bicarbonate_score','gcs_score','comorbidity_score'\\\n",
    "                                        ,'admissiontype_score']].as_matrix())),testing_set['expire_flag'].as_matrix()\n",
    "    clf = svm.SVC(C=1,gamma=0.1)\n",
    "    clf.fit(training_x,training_y)\n",
    "    pre = clf.predict(testing_x)\n",
    "    clf1=GradientBoostingClassifier(n_estimators=10)\n",
    "    clf1.fit(training_x,training_y)\n",
    "    pre1 = clf1.predict(testing_x)\n",
    "    clf2=RandomForestClassifier(max_depth=30, n_estimators=10)\n",
    "    clf2.fit(training_x,training_y)\n",
    "    pre2 = clf2.predict(testing_x)\n",
    "    auc_sco=metrics.roc_auc_score(testing_y,pre)\n",
    "    auc_sco1=metrics.roc_auc_score(testing_y,pre1)\n",
    "    auc_sco2=metrics.roc_auc_score(testing_y,pre2)\n",
    "    auc.append(auc_sco)\n",
    "    auc1.append(auc_sco1)\n",
    "    auc2.append(auc_sco2)\n",
    "print np.mean(auc),np.mean(auc1),np.mean(auc2)"
   ]
  },
  {
   "cell_type": "code",
   "execution_count": 55,
   "metadata": {
    "collapsed": false
   },
   "outputs": [
    {
     "name": "stdout",
     "output_type": "stream",
     "text": [
      "0.626258308762 0.571216403785 0.660795386631\n"
     ]
    }
   ],
   "source": [
    "auc,auc1,auc2=[],[],[]\n",
    "kf = KFold(df_all_real.shape[0], n_folds=10,shuffle=True)\n",
    "for train, test in kf:\n",
    "    training_set,testing_set=df_all_real.iloc[train],df_all_real.iloc[test]\n",
    "    training_x,training_y=np.hstack((np.array(doc_topic[list(training_set['topic']),]),training_set[['sapsii','gender','age_score']]\\\n",
    "                                     .as_matrix())),training_set['dead_in_hospital'].as_matrix()\n",
    "    testing_x,testing_y=np.hstack((np.array(doc_topic[list(testing_set['topic']),]),testing_set[['sapsii','gender','age_score']]\\\n",
    "                                   .as_matrix())),testing_set['dead_in_hospital'].as_matrix()\n",
    "    clf = svm.SVC(C=1,gamma=0.1)\n",
    "    clf.fit(training_x,training_y)\n",
    "    pre = clf.predict(testing_x)\n",
    "    clf1=GradientBoostingClassifier(n_estimators=10)\n",
    "    clf1.fit(training_x,training_y)\n",
    "    pre1 = clf1.predict(testing_x)\n",
    "    clf2=RandomForestClassifier(max_depth=30, n_estimators=10)\n",
    "    clf2.fit(training_x,training_y)\n",
    "    pre2 = clf2.predict(testing_x)\n",
    "    auc_sco=metrics.roc_auc_score(testing_y,pre)\n",
    "    auc_sco1=metrics.roc_auc_score(testing_y,pre1)\n",
    "    auc_sco2=metrics.roc_auc_score(testing_y,pre2)\n",
    "    auc.append(auc_sco)\n",
    "    auc1.append(auc_sco1)\n",
    "    auc2.append(auc_sco2)\n",
    "print np.mean(auc),np.mean(auc1),np.mean(auc2)"
   ]
  },
  {
   "cell_type": "code",
   "execution_count": 88,
   "metadata": {
    "collapsed": false
   },
   "outputs": [
    {
     "name": "stdout",
     "output_type": "stream",
     "text": [
      "0.708624138813 0.717930476199\n"
     ]
    }
   ],
   "source": [
    "auc,sco=[],[]\n",
    "kf = KFold(df_all_real.shape[0], n_folds=10,shuffle=True)\n",
    "for train, test in kf:\n",
    "    training_set,testing_set=df_all_real.iloc[train],df_all_real.iloc[test]\n",
    "    training_x,training_y=training_set[['sapsii','gender','age_score']].as_matrix(),training_set['expire_flag'].as_matrix()\n",
    "    testing_x,testing_y=testing_set[['sapsii','gender','age_score']].as_matrix(),testing_set['expire_flag'].as_matrix()\n",
    "    clf = svm.SVC(C=1,gamma=0.1)\n",
    "    clf.fit(training_x,training_y)\n",
    "    pre = clf.predict(testing_x)\n",
    "    score=clf.score(testing_x,testing_y)\n",
    "    sco.append(score)\n",
    "    auc_sco=metrics.roc_auc_score(testing_y,pre)\n",
    "    auc.append(auc_sco)\n",
    "print np.mean(auc),np.mean(sco)"
   ]
  },
  {
   "cell_type": "code",
   "execution_count": 89,
   "metadata": {
    "collapsed": false
   },
   "outputs": [
    {
     "data": {
      "image/png": "[encoded data removed]",
      "text/plain": [
       "<matplotlib.figure.Figure at 0x5e6e6710>"
      ]
     },
     "metadata": {},
     "output_type": "display_data"
    }
   ],
   "source": [
    "plot_roc(testing_y,pre)"
   ]
  },
  {
   "cell_type": "code",
   "execution_count": 20,
   "metadata": {
    "collapsed": false
   },
   "outputs": [
    {
     "name": "stdout",
     "output_type": "stream",
     "text": [
      "0.687532970348 0.718558940094 0.625680793897 0.677047158857\n"
     ]
    }
   ],
   "source": [
    "auc,sco,auc1,auc2=[],[],[],[]\n",
    "kf = KFold(df_all_real.shape[0], n_folds=10,shuffle=True)\n",
    "for train, test in kf:\n",
    "    training_set,testing_set=df_all_real.iloc[train],df_all_real.iloc[test]\n",
    "    training_x,training_y=np.array(doc_topic[list(training_set['topic']),]),training_set['expire_flag'].as_matrix()\n",
    "    testing_x,testing_y=np.array(doc_topic[list(testing_set['topic']),]),testing_set['expire_flag'].as_matrix()\n",
    "    clf = svm.SVC(C=1,gamma=0.1)\n",
    "    clf.fit(training_x,training_y)\n",
    "    pre = clf.predict(testing_x)\n",
    "    clf1=GradientBoostingClassifier(n_estimators=10)\n",
    "    clf1.fit(training_x,training_y)\n",
    "    pre1 = clf1.predict(testing_x)\n",
    "    clf2=RandomForestClassifier(max_depth=30, n_estimators=10)\n",
    "    clf2.fit(training_x,training_y)\n",
    "    pre2 = clf2.predict(testing_x)\n",
    "    score=clf.score(testing_x,testing_y)\n",
    "    sco.append(score)\n",
    "    auc_sco=metrics.roc_auc_score(testing_y,pre)\n",
    "    auc_sco1=metrics.roc_auc_score(testing_y,pre1)\n",
    "    auc_sco2=metrics.roc_auc_score(testing_y,pre2)\n",
    "    auc.append(auc_sco)\n",
    "    auc1.append(auc_sco1)\n",
    "    auc2.append(auc_sco2)\n",
    "print np.mean(auc),np.mean(sco),np.mean(auc1),np.mean(auc2)"
   ]
  },
  {
   "cell_type": "code",
   "execution_count": 154,
   "metadata": {
    "collapsed": false
   },
   "outputs": [
    {
     "name": "stdout",
     "output_type": "stream",
     "text": [
      "0.541570268733 0.523386737669 0.625996742019\n"
     ]
    }
   ],
   "source": [
    "auc,auc1,auc2=[],[],[]\n",
    "for train, test in kf:\n",
    "    training_set,testing_set=df_all_real.iloc[train],df_all_real.iloc[test]\n",
    "    training_x,training_y=np.array(doc_topic[list(training_set['topic']),]),training_set['dead_in_hospital'].as_matrix()\n",
    "    testing_x,testing_y=np.array(doc_topic[list(testing_set['topic']),]),testing_set['dead_in_hospital'].as_matrix()\n",
    "    clf = svm.SVC(C=1,gamma=0.1)\n",
    "    clf.fit(training_x,training_y)\n",
    "    pre = clf.predict(testing_x)\n",
    "    clf1=GradientBoostingClassifier(n_estimators=10)\n",
    "    clf1.fit(training_x,training_y)\n",
    "    pre1 = clf1.predict(testing_x)\n",
    "    clf2=RandomForestClassifier(max_depth=30, n_estimators=10)\n",
    "    clf2.fit(training_x,training_y)\n",
    "    pre2 = clf2.predict(testing_x)\n",
    "    auc_sco=metrics.roc_auc_score(testing_y,pre)\n",
    "    auc_sco1=metrics.roc_auc_score(testing_y,pre1)\n",
    "    auc_sco2=metrics.roc_auc_score(testing_y,pre2)\n",
    "    auc.append(auc_sco)\n",
    "    auc1.append(auc_sco1)\n",
    "    auc2.append(auc_sco2)\n",
    "print np.mean(auc),np.mean(auc1),np.mean(auc2)"
   ]
  },
  {
   "cell_type": "code",
   "execution_count": 82,
   "metadata": {
    "collapsed": false
   },
   "outputs": [
    {
     "data": {
      "text/plain": [
       "array([1, 0, 0, ..., 1, 1, 0], dtype=int64)"
      ]
     },
     "execution_count": 82,
     "metadata": {},
     "output_type": "execute_result"
    }
   ],
   "source": [
    "x=np.hstack((np.array(doc_topic),df_all_real[['sapsii','gender','age_score']][:doc_topic.shape[0]].as_matrix()))\n",
    "y=df_all_real['expire_flag'][:doc_topic.shape[0]].as_matrix()\n",
    "y"
   ]
  },
  {
   "cell_type": "markdown",
   "metadata": {},
   "source": [
    "## Hyper Parameter Tuning"
   ]
  },
  {
   "cell_type": "code",
   "execution_count": 83,
   "metadata": {
    "collapsed": false
   },
   "outputs": [
    {
     "name": "stdout",
     "output_type": "stream",
     "text": [
      "The best parameters are {'C': 1, 'gamma': 0.1} with a score of 0.72\n"
     ]
    }
   ],
   "source": [
    "from sklearn.cross_validation import StratifiedShuffleSplit\n",
    "from sklearn.grid_search import GridSearchCV\n",
    "\n",
    "\n",
    "C_range = [1e-2, 1, 1e2]\n",
    "gamma_range = [1e-1, 1, 1e1]\n",
    "param_grid = dict(gamma=gamma_range, C=C_range)\n",
    "cv = StratifiedShuffleSplit(y, n_iter=10, test_size=0.2, random_state=42)\n",
    "grid = GridSearchCV(svm.SVC(), param_grid=param_grid, cv=cv)\n",
    "grid.fit(x, y)\n",
    "\n",
    "print(\"The best parameters are %s with a score of %0.2f\"\n",
    "      % (grid.best_params_, grid.best_score_))"
   ]
  },
  {
   "cell_type": "code",
   "execution_count": 92,
   "metadata": {
    "collapsed": true
   },
   "outputs": [],
   "source": [
    "csvfile.close()"
   ]
  }
 ],
 "metadata": {
  "kernelspec": {
   "display_name": "Python 2",
   "language": "python",
   "name": "python2"
  },
  "language_info": {
   "codemirror_mode": {
    "name": "ipython",
    "version": 2
   },
   "file_extension": ".py",
   "mimetype": "text/x-python",
   "name": "python",
   "nbconvert_exporter": "python",
   "pygments_lexer": "ipython2",
   "version": "2.7.11"
  }
 },
 "nbformat": 4,
 "nbformat_minor": 0
}
